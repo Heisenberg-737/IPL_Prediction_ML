{
  "nbformat": 4,
  "nbformat_minor": 5,
  "metadata": {
    "colab": {
      "name": "IPL_Prediction_ML_Project.ipynb",
      "provenance": [],
      "collapsed_sections": []
    },
    "kernelspec": {
      "display_name": "Python 3",
      "language": "python",
      "name": "python3"
    },
    "language_info": {
      "codemirror_mode": {
        "name": "ipython",
        "version": 3
      },
      "file_extension": ".py",
      "mimetype": "text/x-python",
      "name": "python",
      "nbconvert_exporter": "python",
      "pygments_lexer": "ipython3",
      "version": "3.9.2"
    }
  },
  "cells": [
    {
      "cell_type": "markdown",
      "metadata": {
        "id": "OUSl4JLZrf_y"
      },
      "source": [
        "## **IPL Prediction System - Machine Learning (CACSC17)**\n",
        "\n",
        "By:\n",
        "1.   Pranay Kothari (2019UCS2033)\n",
        "2.   Anureet Kaur (2019UCS2037)\n",
        "3.  Deepak Chopra (2019UCS2038)\n",
        "4.  Manjot Singh (2019UCS2054)"
      ],
      "id": "OUSl4JLZrf_y"
    },
    {
      "cell_type": "markdown",
      "metadata": {
        "id": "f-mNK2VArZTC"
      },
      "source": [
        "**Importing Libraries**"
      ],
      "id": "f-mNK2VArZTC"
    },
    {
      "cell_type": "code",
      "metadata": {
        "id": "focal-combination"
      },
      "source": [
        "import numpy as np\n",
        "import pandas as pd\n",
        "import matplotlib.pyplot as plt\n",
        "import warnings\n",
        "\n",
        "warnings.filterwarnings(\"ignore\")"
      ],
      "id": "focal-combination",
      "execution_count": null,
      "outputs": []
    },
    {
      "cell_type": "markdown",
      "metadata": {
        "id": "M9G11XfmtUwK"
      },
      "source": [
        "**Reading the CSV of IPL Matches**"
      ],
      "id": "M9G11XfmtUwK"
    },
    {
      "cell_type": "code",
      "metadata": {
        "id": "superb-sunglasses"
      },
      "source": [
        "match_df=pd.read_csv('IPL Matches 2008-2020.csv')"
      ],
      "id": "superb-sunglasses",
      "execution_count": null,
      "outputs": []
    },
    {
      "cell_type": "code",
      "metadata": {
        "colab": {
          "base_uri": "https://localhost:8080/"
        },
        "id": "documentary-winner",
        "outputId": "4598971e-d916-4e34-e600-1e8d5db5220f"
      },
      "source": [
        "print(match_df)"
      ],
      "id": "documentary-winner",
      "execution_count": null,
      "outputs": [
        {
          "output_type": "stream",
          "name": "stdout",
          "text": [
            "          id        city        date  ... method      umpire1         umpire2\n",
            "0     335982   Bangalore  2008-04-18  ...    NaN    Asad Rauf     RE Koertzen\n",
            "1     335983  Chandigarh  2008-04-19  ...    NaN    MR Benson      SL Shastri\n",
            "2     335984       Delhi  2008-04-19  ...    NaN    Aleem Dar  GA Pratapkumar\n",
            "3     335985      Mumbai  2008-04-20  ...    NaN     SJ Davis       DJ Harper\n",
            "4     335986     Kolkata  2008-04-20  ...    NaN    BF Bowden     K Hariharan\n",
            "..       ...         ...         ...  ...    ...          ...             ...\n",
            "811  1216547       Dubai  2020-09-28  ...    NaN  Nitin Menon      PR Reiffel\n",
            "812  1237177       Dubai  2020-11-05  ...    NaN  CB Gaffaney     Nitin Menon\n",
            "813  1237178   Abu Dhabi  2020-11-06  ...    NaN   PR Reiffel          S Ravi\n",
            "814  1237180   Abu Dhabi  2020-11-08  ...    NaN   PR Reiffel          S Ravi\n",
            "815  1237181       Dubai  2020-11-10  ...    NaN  CB Gaffaney     Nitin Menon\n",
            "\n",
            "[816 rows x 17 columns]\n"
          ]
        }
      ]
    },
    {
      "cell_type": "code",
      "metadata": {
        "colab": {
          "base_uri": "https://localhost:8080/",
          "height": 417
        },
        "id": "alpha-maker",
        "outputId": "df240d2c-b75e-4363-ce7a-0eb75df48953"
      },
      "source": [
        "match_df.head()"
      ],
      "id": "alpha-maker",
      "execution_count": null,
      "outputs": [
        {
          "output_type": "execute_result",
          "data": {
            "text/html": [
              "<div>\n",
              "<style scoped>\n",
              "    .dataframe tbody tr th:only-of-type {\n",
              "        vertical-align: middle;\n",
              "    }\n",
              "\n",
              "    .dataframe tbody tr th {\n",
              "        vertical-align: top;\n",
              "    }\n",
              "\n",
              "    .dataframe thead th {\n",
              "        text-align: right;\n",
              "    }\n",
              "</style>\n",
              "<table border=\"1\" class=\"dataframe\">\n",
              "  <thead>\n",
              "    <tr style=\"text-align: right;\">\n",
              "      <th></th>\n",
              "      <th>id</th>\n",
              "      <th>city</th>\n",
              "      <th>date</th>\n",
              "      <th>player_of_match</th>\n",
              "      <th>venue</th>\n",
              "      <th>neutral_venue</th>\n",
              "      <th>team1</th>\n",
              "      <th>team2</th>\n",
              "      <th>toss_winner</th>\n",
              "      <th>toss_decision</th>\n",
              "      <th>winner</th>\n",
              "      <th>result</th>\n",
              "      <th>result_margin</th>\n",
              "      <th>eliminator</th>\n",
              "      <th>method</th>\n",
              "      <th>umpire1</th>\n",
              "      <th>umpire2</th>\n",
              "    </tr>\n",
              "  </thead>\n",
              "  <tbody>\n",
              "    <tr>\n",
              "      <th>0</th>\n",
              "      <td>335982</td>\n",
              "      <td>Bangalore</td>\n",
              "      <td>2008-04-18</td>\n",
              "      <td>BB McCullum</td>\n",
              "      <td>M Chinnaswamy Stadium</td>\n",
              "      <td>0</td>\n",
              "      <td>Royal Challengers Bangalore</td>\n",
              "      <td>Kolkata Knight Riders</td>\n",
              "      <td>Royal Challengers Bangalore</td>\n",
              "      <td>field</td>\n",
              "      <td>Kolkata Knight Riders</td>\n",
              "      <td>runs</td>\n",
              "      <td>140.0</td>\n",
              "      <td>N</td>\n",
              "      <td>NaN</td>\n",
              "      <td>Asad Rauf</td>\n",
              "      <td>RE Koertzen</td>\n",
              "    </tr>\n",
              "    <tr>\n",
              "      <th>1</th>\n",
              "      <td>335983</td>\n",
              "      <td>Chandigarh</td>\n",
              "      <td>2008-04-19</td>\n",
              "      <td>MEK Hussey</td>\n",
              "      <td>Punjab Cricket Association Stadium, Mohali</td>\n",
              "      <td>0</td>\n",
              "      <td>Kings XI Punjab</td>\n",
              "      <td>Chennai Super Kings</td>\n",
              "      <td>Chennai Super Kings</td>\n",
              "      <td>bat</td>\n",
              "      <td>Chennai Super Kings</td>\n",
              "      <td>runs</td>\n",
              "      <td>33.0</td>\n",
              "      <td>N</td>\n",
              "      <td>NaN</td>\n",
              "      <td>MR Benson</td>\n",
              "      <td>SL Shastri</td>\n",
              "    </tr>\n",
              "    <tr>\n",
              "      <th>2</th>\n",
              "      <td>335984</td>\n",
              "      <td>Delhi</td>\n",
              "      <td>2008-04-19</td>\n",
              "      <td>MF Maharoof</td>\n",
              "      <td>Feroz Shah Kotla</td>\n",
              "      <td>0</td>\n",
              "      <td>Delhi Daredevils</td>\n",
              "      <td>Rajasthan Royals</td>\n",
              "      <td>Rajasthan Royals</td>\n",
              "      <td>bat</td>\n",
              "      <td>Delhi Daredevils</td>\n",
              "      <td>wickets</td>\n",
              "      <td>9.0</td>\n",
              "      <td>N</td>\n",
              "      <td>NaN</td>\n",
              "      <td>Aleem Dar</td>\n",
              "      <td>GA Pratapkumar</td>\n",
              "    </tr>\n",
              "    <tr>\n",
              "      <th>3</th>\n",
              "      <td>335985</td>\n",
              "      <td>Mumbai</td>\n",
              "      <td>2008-04-20</td>\n",
              "      <td>MV Boucher</td>\n",
              "      <td>Wankhede Stadium</td>\n",
              "      <td>0</td>\n",
              "      <td>Mumbai Indians</td>\n",
              "      <td>Royal Challengers Bangalore</td>\n",
              "      <td>Mumbai Indians</td>\n",
              "      <td>bat</td>\n",
              "      <td>Royal Challengers Bangalore</td>\n",
              "      <td>wickets</td>\n",
              "      <td>5.0</td>\n",
              "      <td>N</td>\n",
              "      <td>NaN</td>\n",
              "      <td>SJ Davis</td>\n",
              "      <td>DJ Harper</td>\n",
              "    </tr>\n",
              "    <tr>\n",
              "      <th>4</th>\n",
              "      <td>335986</td>\n",
              "      <td>Kolkata</td>\n",
              "      <td>2008-04-20</td>\n",
              "      <td>DJ Hussey</td>\n",
              "      <td>Eden Gardens</td>\n",
              "      <td>0</td>\n",
              "      <td>Kolkata Knight Riders</td>\n",
              "      <td>Deccan Chargers</td>\n",
              "      <td>Deccan Chargers</td>\n",
              "      <td>bat</td>\n",
              "      <td>Kolkata Knight Riders</td>\n",
              "      <td>wickets</td>\n",
              "      <td>5.0</td>\n",
              "      <td>N</td>\n",
              "      <td>NaN</td>\n",
              "      <td>BF Bowden</td>\n",
              "      <td>K Hariharan</td>\n",
              "    </tr>\n",
              "  </tbody>\n",
              "</table>\n",
              "</div>"
            ],
            "text/plain": [
              "       id        city        date  ... method    umpire1         umpire2\n",
              "0  335982   Bangalore  2008-04-18  ...    NaN  Asad Rauf     RE Koertzen\n",
              "1  335983  Chandigarh  2008-04-19  ...    NaN  MR Benson      SL Shastri\n",
              "2  335984       Delhi  2008-04-19  ...    NaN  Aleem Dar  GA Pratapkumar\n",
              "3  335985      Mumbai  2008-04-20  ...    NaN   SJ Davis       DJ Harper\n",
              "4  335986     Kolkata  2008-04-20  ...    NaN  BF Bowden     K Hariharan\n",
              "\n",
              "[5 rows x 17 columns]"
            ]
          },
          "metadata": {},
          "execution_count": 4
        }
      ]
    },
    {
      "cell_type": "markdown",
      "metadata": {
        "id": "uDSEyN8Xtdxr"
      },
      "source": [
        "**Reading the CSV of IPL Ball by Ball**"
      ],
      "id": "uDSEyN8Xtdxr"
    },
    {
      "cell_type": "code",
      "metadata": {
        "id": "biological-feature"
      },
      "source": [
        "delv_df=pd.read_csv('IPL Ball-by-Ball 2008-2020.csv')"
      ],
      "id": "biological-feature",
      "execution_count": null,
      "outputs": []
    },
    {
      "cell_type": "code",
      "metadata": {
        "colab": {
          "base_uri": "https://localhost:8080/",
          "height": 400
        },
        "id": "extreme-baghdad",
        "outputId": "259caea6-893c-4bb4-c9b2-abc32714aa5c"
      },
      "source": [
        "delv_df.head()"
      ],
      "id": "extreme-baghdad",
      "execution_count": null,
      "outputs": [
        {
          "output_type": "execute_result",
          "data": {
            "text/html": [
              "<div>\n",
              "<style scoped>\n",
              "    .dataframe tbody tr th:only-of-type {\n",
              "        vertical-align: middle;\n",
              "    }\n",
              "\n",
              "    .dataframe tbody tr th {\n",
              "        vertical-align: top;\n",
              "    }\n",
              "\n",
              "    .dataframe thead th {\n",
              "        text-align: right;\n",
              "    }\n",
              "</style>\n",
              "<table border=\"1\" class=\"dataframe\">\n",
              "  <thead>\n",
              "    <tr style=\"text-align: right;\">\n",
              "      <th></th>\n",
              "      <th>id</th>\n",
              "      <th>inning</th>\n",
              "      <th>over</th>\n",
              "      <th>ball</th>\n",
              "      <th>batsman</th>\n",
              "      <th>non_striker</th>\n",
              "      <th>bowler</th>\n",
              "      <th>batsman_runs</th>\n",
              "      <th>extra_runs</th>\n",
              "      <th>total_runs</th>\n",
              "      <th>non_boundary</th>\n",
              "      <th>is_wicket</th>\n",
              "      <th>dismissal_kind</th>\n",
              "      <th>player_dismissed</th>\n",
              "      <th>fielder</th>\n",
              "      <th>extras_type</th>\n",
              "      <th>batting_team</th>\n",
              "      <th>bowling_team</th>\n",
              "    </tr>\n",
              "  </thead>\n",
              "  <tbody>\n",
              "    <tr>\n",
              "      <th>0</th>\n",
              "      <td>335982</td>\n",
              "      <td>1</td>\n",
              "      <td>6</td>\n",
              "      <td>5</td>\n",
              "      <td>RT Ponting</td>\n",
              "      <td>BB McCullum</td>\n",
              "      <td>AA Noffke</td>\n",
              "      <td>1</td>\n",
              "      <td>0</td>\n",
              "      <td>1</td>\n",
              "      <td>0</td>\n",
              "      <td>0</td>\n",
              "      <td>NaN</td>\n",
              "      <td>NaN</td>\n",
              "      <td>NaN</td>\n",
              "      <td>NaN</td>\n",
              "      <td>Kolkata Knight Riders</td>\n",
              "      <td>Royal Challengers Bangalore</td>\n",
              "    </tr>\n",
              "    <tr>\n",
              "      <th>1</th>\n",
              "      <td>335982</td>\n",
              "      <td>1</td>\n",
              "      <td>6</td>\n",
              "      <td>6</td>\n",
              "      <td>BB McCullum</td>\n",
              "      <td>RT Ponting</td>\n",
              "      <td>AA Noffke</td>\n",
              "      <td>1</td>\n",
              "      <td>0</td>\n",
              "      <td>1</td>\n",
              "      <td>0</td>\n",
              "      <td>0</td>\n",
              "      <td>NaN</td>\n",
              "      <td>NaN</td>\n",
              "      <td>NaN</td>\n",
              "      <td>NaN</td>\n",
              "      <td>Kolkata Knight Riders</td>\n",
              "      <td>Royal Challengers Bangalore</td>\n",
              "    </tr>\n",
              "    <tr>\n",
              "      <th>2</th>\n",
              "      <td>335982</td>\n",
              "      <td>1</td>\n",
              "      <td>7</td>\n",
              "      <td>1</td>\n",
              "      <td>BB McCullum</td>\n",
              "      <td>RT Ponting</td>\n",
              "      <td>Z Khan</td>\n",
              "      <td>0</td>\n",
              "      <td>0</td>\n",
              "      <td>0</td>\n",
              "      <td>0</td>\n",
              "      <td>0</td>\n",
              "      <td>NaN</td>\n",
              "      <td>NaN</td>\n",
              "      <td>NaN</td>\n",
              "      <td>NaN</td>\n",
              "      <td>Kolkata Knight Riders</td>\n",
              "      <td>Royal Challengers Bangalore</td>\n",
              "    </tr>\n",
              "    <tr>\n",
              "      <th>3</th>\n",
              "      <td>335982</td>\n",
              "      <td>1</td>\n",
              "      <td>7</td>\n",
              "      <td>2</td>\n",
              "      <td>BB McCullum</td>\n",
              "      <td>RT Ponting</td>\n",
              "      <td>Z Khan</td>\n",
              "      <td>1</td>\n",
              "      <td>0</td>\n",
              "      <td>1</td>\n",
              "      <td>0</td>\n",
              "      <td>0</td>\n",
              "      <td>NaN</td>\n",
              "      <td>NaN</td>\n",
              "      <td>NaN</td>\n",
              "      <td>NaN</td>\n",
              "      <td>Kolkata Knight Riders</td>\n",
              "      <td>Royal Challengers Bangalore</td>\n",
              "    </tr>\n",
              "    <tr>\n",
              "      <th>4</th>\n",
              "      <td>335982</td>\n",
              "      <td>1</td>\n",
              "      <td>7</td>\n",
              "      <td>3</td>\n",
              "      <td>RT Ponting</td>\n",
              "      <td>BB McCullum</td>\n",
              "      <td>Z Khan</td>\n",
              "      <td>1</td>\n",
              "      <td>0</td>\n",
              "      <td>1</td>\n",
              "      <td>0</td>\n",
              "      <td>0</td>\n",
              "      <td>NaN</td>\n",
              "      <td>NaN</td>\n",
              "      <td>NaN</td>\n",
              "      <td>NaN</td>\n",
              "      <td>Kolkata Knight Riders</td>\n",
              "      <td>Royal Challengers Bangalore</td>\n",
              "    </tr>\n",
              "  </tbody>\n",
              "</table>\n",
              "</div>"
            ],
            "text/plain": [
              "       id  inning  ...           batting_team                 bowling_team\n",
              "0  335982       1  ...  Kolkata Knight Riders  Royal Challengers Bangalore\n",
              "1  335982       1  ...  Kolkata Knight Riders  Royal Challengers Bangalore\n",
              "2  335982       1  ...  Kolkata Knight Riders  Royal Challengers Bangalore\n",
              "3  335982       1  ...  Kolkata Knight Riders  Royal Challengers Bangalore\n",
              "4  335982       1  ...  Kolkata Knight Riders  Royal Challengers Bangalore\n",
              "\n",
              "[5 rows x 18 columns]"
            ]
          },
          "metadata": {},
          "execution_count": 6
        }
      ]
    },
    {
      "cell_type": "code",
      "metadata": {
        "colab": {
          "base_uri": "https://localhost:8080/"
        },
        "id": "foster-parallel",
        "outputId": "4fd0bb3b-2ba0-48d9-e5d0-86537933ba4c"
      },
      "source": [
        "match_df.info()"
      ],
      "id": "foster-parallel",
      "execution_count": null,
      "outputs": [
        {
          "output_type": "stream",
          "name": "stdout",
          "text": [
            "<class 'pandas.core.frame.DataFrame'>\n",
            "RangeIndex: 816 entries, 0 to 815\n",
            "Data columns (total 17 columns):\n",
            " #   Column           Non-Null Count  Dtype  \n",
            "---  ------           --------------  -----  \n",
            " 0   id               816 non-null    int64  \n",
            " 1   city             803 non-null    object \n",
            " 2   date             816 non-null    object \n",
            " 3   player_of_match  812 non-null    object \n",
            " 4   venue            816 non-null    object \n",
            " 5   neutral_venue    816 non-null    int64  \n",
            " 6   team1            816 non-null    object \n",
            " 7   team2            816 non-null    object \n",
            " 8   toss_winner      816 non-null    object \n",
            " 9   toss_decision    816 non-null    object \n",
            " 10  winner           812 non-null    object \n",
            " 11  result           812 non-null    object \n",
            " 12  result_margin    799 non-null    float64\n",
            " 13  eliminator       812 non-null    object \n",
            " 14  method           19 non-null     object \n",
            " 15  umpire1          816 non-null    object \n",
            " 16  umpire2          816 non-null    object \n",
            "dtypes: float64(1), int64(2), object(14)\n",
            "memory usage: 108.5+ KB\n"
          ]
        }
      ]
    },
    {
      "cell_type": "code",
      "metadata": {
        "colab": {
          "base_uri": "https://localhost:8080/"
        },
        "id": "stone-triple",
        "outputId": "a3389365-294f-4be9-8f5b-efa4c6f98cb2"
      },
      "source": [
        "delv_df.info()"
      ],
      "id": "stone-triple",
      "execution_count": null,
      "outputs": [
        {
          "output_type": "stream",
          "name": "stdout",
          "text": [
            "<class 'pandas.core.frame.DataFrame'>\n",
            "RangeIndex: 193468 entries, 0 to 193467\n",
            "Data columns (total 18 columns):\n",
            " #   Column            Non-Null Count   Dtype \n",
            "---  ------            --------------   ----- \n",
            " 0   id                193468 non-null  int64 \n",
            " 1   inning            193468 non-null  int64 \n",
            " 2   over              193468 non-null  int64 \n",
            " 3   ball              193468 non-null  int64 \n",
            " 4   batsman           193468 non-null  object\n",
            " 5   non_striker       193468 non-null  object\n",
            " 6   bowler            193468 non-null  object\n",
            " 7   batsman_runs      193468 non-null  int64 \n",
            " 8   extra_runs        193468 non-null  int64 \n",
            " 9   total_runs        193468 non-null  int64 \n",
            " 10  non_boundary      193468 non-null  int64 \n",
            " 11  is_wicket         193468 non-null  int64 \n",
            " 12  dismissal_kind    9495 non-null    object\n",
            " 13  player_dismissed  9495 non-null    object\n",
            " 14  fielder           6784 non-null    object\n",
            " 15  extras_type       10233 non-null   object\n",
            " 16  batting_team      193468 non-null  object\n",
            " 17  bowling_team      193277 non-null  object\n",
            "dtypes: int64(9), object(9)\n",
            "memory usage: 26.6+ MB\n"
          ]
        }
      ]
    },
    {
      "cell_type": "code",
      "metadata": {
        "colab": {
          "base_uri": "https://localhost:8080/"
        },
        "id": "announced-confidentiality",
        "outputId": "832f2605-d724-4e2d-b13a-29210437e7e5"
      },
      "source": [
        "match_df['winner']"
      ],
      "id": "announced-confidentiality",
      "execution_count": null,
      "outputs": [
        {
          "output_type": "execute_result",
          "data": {
            "text/plain": [
              "0            Kolkata Knight Riders\n",
              "1              Chennai Super Kings\n",
              "2                 Delhi Daredevils\n",
              "3      Royal Challengers Bangalore\n",
              "4            Kolkata Knight Riders\n",
              "                  ...             \n",
              "811    Royal Challengers Bangalore\n",
              "812                 Mumbai Indians\n",
              "813            Sunrisers Hyderabad\n",
              "814                 Delhi Capitals\n",
              "815                 Mumbai Indians\n",
              "Name: winner, Length: 816, dtype: object"
            ]
          },
          "metadata": {},
          "execution_count": 9
        }
      ]
    },
    {
      "cell_type": "code",
      "metadata": {
        "colab": {
          "base_uri": "https://localhost:8080/"
        },
        "id": "mysterious-cleaners",
        "outputId": "a3af681a-4ddd-4dd7-97f6-64bd06ca9579"
      },
      "source": [
        "match_df['winner'].value_counts()"
      ],
      "id": "mysterious-cleaners",
      "execution_count": null,
      "outputs": [
        {
          "output_type": "execute_result",
          "data": {
            "text/plain": [
              "Mumbai Indians                 120\n",
              "Chennai Super Kings            106\n",
              "Kolkata Knight Riders           99\n",
              "Royal Challengers Bangalore     91\n",
              "Kings XI Punjab                 88\n",
              "Rajasthan Royals                81\n",
              "Delhi Daredevils                67\n",
              "Sunrisers Hyderabad             66\n",
              "Deccan Chargers                 29\n",
              "Delhi Capitals                  19\n",
              "Gujarat Lions                   13\n",
              "Pune Warriors                   12\n",
              "Rising Pune Supergiant          10\n",
              "Kochi Tuskers Kerala             6\n",
              "Rising Pune Supergiants          5\n",
              "Name: winner, dtype: int64"
            ]
          },
          "metadata": {},
          "execution_count": 10
        }
      ]
    },
    {
      "cell_type": "code",
      "metadata": {
        "colab": {
          "base_uri": "https://localhost:8080/"
        },
        "id": "appointed-mauritius",
        "outputId": "f20f9447-4aa8-49a6-948f-cb5ab0f31fc2"
      },
      "source": [
        "match_df['team1'].value_counts()"
      ],
      "id": "appointed-mauritius",
      "execution_count": null,
      "outputs": [
        {
          "output_type": "execute_result",
          "data": {
            "text/plain": [
              "Royal Challengers Bangalore    108\n",
              "Mumbai Indians                  97\n",
              "Kolkata Knight Riders           95\n",
              "Chennai Super Kings             94\n",
              "Kings XI Punjab                 92\n",
              "Delhi Daredevils                83\n",
              "Rajasthan Royals                70\n",
              "Sunrisers Hyderabad             59\n",
              "Deccan Chargers                 39\n",
              "Pune Warriors                   23\n",
              "Delhi Capitals                  19\n",
              "Gujarat Lions                   16\n",
              "Rising Pune Supergiant           7\n",
              "Kochi Tuskers Kerala             7\n",
              "Rising Pune Supergiants          7\n",
              "Name: team1, dtype: int64"
            ]
          },
          "metadata": {},
          "execution_count": 11
        }
      ]
    },
    {
      "cell_type": "code",
      "metadata": {
        "colab": {
          "base_uri": "https://localhost:8080/"
        },
        "id": "existing-rover",
        "outputId": "ebecb1ab-966c-4912-d3de-9804c2dee081"
      },
      "source": [
        "match_df['winner']"
      ],
      "id": "existing-rover",
      "execution_count": null,
      "outputs": [
        {
          "output_type": "execute_result",
          "data": {
            "text/plain": [
              "0            Kolkata Knight Riders\n",
              "1              Chennai Super Kings\n",
              "2                 Delhi Daredevils\n",
              "3      Royal Challengers Bangalore\n",
              "4            Kolkata Knight Riders\n",
              "                  ...             \n",
              "811    Royal Challengers Bangalore\n",
              "812                 Mumbai Indians\n",
              "813            Sunrisers Hyderabad\n",
              "814                 Delhi Capitals\n",
              "815                 Mumbai Indians\n",
              "Name: winner, Length: 816, dtype: object"
            ]
          },
          "metadata": {},
          "execution_count": 12
        }
      ]
    },
    {
      "cell_type": "code",
      "metadata": {
        "colab": {
          "base_uri": "https://localhost:8080/"
        },
        "id": "vietnamese-school",
        "outputId": "71eae01e-8f5e-4e11-deae-98461c0b800b"
      },
      "source": [
        "match_df['winner'].isnull()"
      ],
      "id": "vietnamese-school",
      "execution_count": null,
      "outputs": [
        {
          "output_type": "execute_result",
          "data": {
            "text/plain": [
              "0      False\n",
              "1      False\n",
              "2      False\n",
              "3      False\n",
              "4      False\n",
              "       ...  \n",
              "811    False\n",
              "812    False\n",
              "813    False\n",
              "814    False\n",
              "815    False\n",
              "Name: winner, Length: 816, dtype: bool"
            ]
          },
          "metadata": {},
          "execution_count": 13
        }
      ]
    },
    {
      "cell_type": "code",
      "metadata": {
        "id": "nutritional-samba"
      },
      "source": [
        "rs=len(match_df['winner'])"
      ],
      "id": "nutritional-samba",
      "execution_count": null,
      "outputs": []
    },
    {
      "cell_type": "code",
      "metadata": {
        "colab": {
          "base_uri": "https://localhost:8080/"
        },
        "id": "liked-concrete",
        "outputId": "e41b6077-68b0-4317-8f16-b6a4d07c56f0"
      },
      "source": [
        "match_df['winner'].isnull()[0]"
      ],
      "id": "liked-concrete",
      "execution_count": null,
      "outputs": [
        {
          "output_type": "execute_result",
          "data": {
            "text/plain": [
              "False"
            ]
          },
          "metadata": {},
          "execution_count": 15
        }
      ]
    },
    {
      "cell_type": "code",
      "metadata": {
        "id": "electoral-chester"
      },
      "source": [
        "for i in range(rs):\n",
        "    if match_df['winner'].isnull()[i]==True:\n",
        "        match_df=match_df.drop(i)"
      ],
      "id": "electoral-chester",
      "execution_count": null,
      "outputs": []
    },
    {
      "cell_type": "code",
      "metadata": {
        "colab": {
          "base_uri": "https://localhost:8080/"
        },
        "id": "lesbian-courtesy",
        "outputId": "cbbbc967-69c7-4494-cd75-cd7e227f6558"
      },
      "source": [
        "print(len(match_df['winner']))     "
      ],
      "id": "lesbian-courtesy",
      "execution_count": null,
      "outputs": [
        {
          "output_type": "stream",
          "name": "stdout",
          "text": [
            "812\n"
          ]
        }
      ]
    },
    {
      "cell_type": "code",
      "metadata": {
        "colab": {
          "base_uri": "https://localhost:8080/",
          "height": 50
        },
        "id": "spread-modification",
        "outputId": "52befa00-0837-4247-8743-ddc088e6dd16"
      },
      "source": [
        "match_df[match_df['winner'].isnull()==True]"
      ],
      "id": "spread-modification",
      "execution_count": null,
      "outputs": [
        {
          "output_type": "execute_result",
          "data": {
            "text/html": [
              "<div>\n",
              "<style scoped>\n",
              "    .dataframe tbody tr th:only-of-type {\n",
              "        vertical-align: middle;\n",
              "    }\n",
              "\n",
              "    .dataframe tbody tr th {\n",
              "        vertical-align: top;\n",
              "    }\n",
              "\n",
              "    .dataframe thead th {\n",
              "        text-align: right;\n",
              "    }\n",
              "</style>\n",
              "<table border=\"1\" class=\"dataframe\">\n",
              "  <thead>\n",
              "    <tr style=\"text-align: right;\">\n",
              "      <th></th>\n",
              "      <th>id</th>\n",
              "      <th>city</th>\n",
              "      <th>date</th>\n",
              "      <th>player_of_match</th>\n",
              "      <th>venue</th>\n",
              "      <th>neutral_venue</th>\n",
              "      <th>team1</th>\n",
              "      <th>team2</th>\n",
              "      <th>toss_winner</th>\n",
              "      <th>toss_decision</th>\n",
              "      <th>winner</th>\n",
              "      <th>result</th>\n",
              "      <th>result_margin</th>\n",
              "      <th>eliminator</th>\n",
              "      <th>method</th>\n",
              "      <th>umpire1</th>\n",
              "      <th>umpire2</th>\n",
              "    </tr>\n",
              "  </thead>\n",
              "  <tbody>\n",
              "  </tbody>\n",
              "</table>\n",
              "</div>"
            ],
            "text/plain": [
              "Empty DataFrame\n",
              "Columns: [id, city, date, player_of_match, venue, neutral_venue, team1, team2, toss_winner, toss_decision, winner, result, result_margin, eliminator, method, umpire1, umpire2]\n",
              "Index: []"
            ]
          },
          "metadata": {},
          "execution_count": 18
        }
      ]
    },
    {
      "cell_type": "code",
      "metadata": {
        "colab": {
          "base_uri": "https://localhost:8080/"
        },
        "id": "chubby-bennett",
        "outputId": "9bf0bf01-6e20-4315-a1bc-db3260dcf29c"
      },
      "source": [
        "match_df.info()"
      ],
      "id": "chubby-bennett",
      "execution_count": null,
      "outputs": [
        {
          "output_type": "stream",
          "name": "stdout",
          "text": [
            "<class 'pandas.core.frame.DataFrame'>\n",
            "Int64Index: 812 entries, 0 to 815\n",
            "Data columns (total 17 columns):\n",
            " #   Column           Non-Null Count  Dtype  \n",
            "---  ------           --------------  -----  \n",
            " 0   id               812 non-null    int64  \n",
            " 1   city             799 non-null    object \n",
            " 2   date             812 non-null    object \n",
            " 3   player_of_match  812 non-null    object \n",
            " 4   venue            812 non-null    object \n",
            " 5   neutral_venue    812 non-null    int64  \n",
            " 6   team1            812 non-null    object \n",
            " 7   team2            812 non-null    object \n",
            " 8   toss_winner      812 non-null    object \n",
            " 9   toss_decision    812 non-null    object \n",
            " 10  winner           812 non-null    object \n",
            " 11  result           812 non-null    object \n",
            " 12  result_margin    799 non-null    float64\n",
            " 13  eliminator       812 non-null    object \n",
            " 14  method           19 non-null     object \n",
            " 15  umpire1          812 non-null    object \n",
            " 16  umpire2          812 non-null    object \n",
            "dtypes: float64(1), int64(2), object(14)\n",
            "memory usage: 154.2+ KB\n"
          ]
        }
      ]
    },
    {
      "cell_type": "markdown",
      "metadata": {
        "id": "iQ9V4nDRt8tk"
      },
      "source": [
        "**Converting into Categorical Data**"
      ],
      "id": "iQ9V4nDRt8tk"
    },
    {
      "cell_type": "code",
      "metadata": {
        "id": "adverse-senator"
      },
      "source": [
        "team_encodings={\n",
        "    'Mumbai Indians':1,\n",
        "    'Kolkata Knight Riders':2,\n",
        "    'Royal Challengers Bangalore':3,\n",
        "    'Deccan Chargers':4,\n",
        "    'Chennai Super Kings':5,\n",
        "    'Rajasthan Royals':6,\n",
        "    'Delhi Daredevils':7,\n",
        "    'Gujarat Lions':8,\n",
        "    'Kings XI Punjab':9,\n",
        "    'Sunrisers Hyderabad':10,\n",
        "    'Rising Pune Supergiants':11,\n",
        "    'Rising Pune Supergiant':11,\n",
        "    'Kochi Tuskers Kerala':12,\n",
        "    'Pune Warriors':13,\n",
        "    'Delhi Capitals':14,\n",
        "    \"Draw\":15\n",
        "}\n",
        "\n",
        "teams_list=[\n",
        "    'Mumbai Indians',\n",
        "    'Kolkata Knight Riders',\n",
        "    'Royal Challengers Bangalore',\n",
        "    'Deccan Chargers',\n",
        "    'Chennai Super Kings',\n",
        "    'Rajasthan Royals',\n",
        "    'Delhi Daredevils',\n",
        "    'Gujarat Lions',\n",
        "    'Kings XI Punjab',\n",
        "    'Sunrisers Hyderabad',\n",
        "    'Rising Pune Supergiants',\n",
        "    'Kochi Tuskers Kerala',\n",
        "    'Pune Warriors',\n",
        "    'Delhi Capitals']\n",
        "\n",
        "team_encode_dict={\n",
        "    'team1':team_encodings,\n",
        "    'team2':team_encodings,\n",
        "    'toss_winner':team_encodings,\n",
        "    'winner':team_encodings\n",
        "}"
      ],
      "id": "adverse-senator",
      "execution_count": null,
      "outputs": []
    },
    {
      "cell_type": "code",
      "metadata": {
        "id": "portable-ownership"
      },
      "source": [
        "match_df.replace(team_encode_dict,inplace=True)"
      ],
      "id": "portable-ownership",
      "execution_count": null,
      "outputs": []
    },
    {
      "cell_type": "code",
      "metadata": {
        "colab": {
          "base_uri": "https://localhost:8080/",
          "height": 382
        },
        "id": "three-indian",
        "outputId": "41db8c34-e344-401f-cbb4-5f3c672ad05a"
      },
      "source": [
        "match_df.head()"
      ],
      "id": "three-indian",
      "execution_count": null,
      "outputs": [
        {
          "output_type": "execute_result",
          "data": {
            "text/html": [
              "<div>\n",
              "<style scoped>\n",
              "    .dataframe tbody tr th:only-of-type {\n",
              "        vertical-align: middle;\n",
              "    }\n",
              "\n",
              "    .dataframe tbody tr th {\n",
              "        vertical-align: top;\n",
              "    }\n",
              "\n",
              "    .dataframe thead th {\n",
              "        text-align: right;\n",
              "    }\n",
              "</style>\n",
              "<table border=\"1\" class=\"dataframe\">\n",
              "  <thead>\n",
              "    <tr style=\"text-align: right;\">\n",
              "      <th></th>\n",
              "      <th>id</th>\n",
              "      <th>city</th>\n",
              "      <th>date</th>\n",
              "      <th>player_of_match</th>\n",
              "      <th>venue</th>\n",
              "      <th>neutral_venue</th>\n",
              "      <th>team1</th>\n",
              "      <th>team2</th>\n",
              "      <th>toss_winner</th>\n",
              "      <th>toss_decision</th>\n",
              "      <th>winner</th>\n",
              "      <th>result</th>\n",
              "      <th>result_margin</th>\n",
              "      <th>eliminator</th>\n",
              "      <th>method</th>\n",
              "      <th>umpire1</th>\n",
              "      <th>umpire2</th>\n",
              "    </tr>\n",
              "  </thead>\n",
              "  <tbody>\n",
              "    <tr>\n",
              "      <th>0</th>\n",
              "      <td>335982</td>\n",
              "      <td>Bangalore</td>\n",
              "      <td>2008-04-18</td>\n",
              "      <td>BB McCullum</td>\n",
              "      <td>M Chinnaswamy Stadium</td>\n",
              "      <td>0</td>\n",
              "      <td>3</td>\n",
              "      <td>2</td>\n",
              "      <td>3</td>\n",
              "      <td>field</td>\n",
              "      <td>2</td>\n",
              "      <td>runs</td>\n",
              "      <td>140.0</td>\n",
              "      <td>N</td>\n",
              "      <td>NaN</td>\n",
              "      <td>Asad Rauf</td>\n",
              "      <td>RE Koertzen</td>\n",
              "    </tr>\n",
              "    <tr>\n",
              "      <th>1</th>\n",
              "      <td>335983</td>\n",
              "      <td>Chandigarh</td>\n",
              "      <td>2008-04-19</td>\n",
              "      <td>MEK Hussey</td>\n",
              "      <td>Punjab Cricket Association Stadium, Mohali</td>\n",
              "      <td>0</td>\n",
              "      <td>9</td>\n",
              "      <td>5</td>\n",
              "      <td>5</td>\n",
              "      <td>bat</td>\n",
              "      <td>5</td>\n",
              "      <td>runs</td>\n",
              "      <td>33.0</td>\n",
              "      <td>N</td>\n",
              "      <td>NaN</td>\n",
              "      <td>MR Benson</td>\n",
              "      <td>SL Shastri</td>\n",
              "    </tr>\n",
              "    <tr>\n",
              "      <th>2</th>\n",
              "      <td>335984</td>\n",
              "      <td>Delhi</td>\n",
              "      <td>2008-04-19</td>\n",
              "      <td>MF Maharoof</td>\n",
              "      <td>Feroz Shah Kotla</td>\n",
              "      <td>0</td>\n",
              "      <td>7</td>\n",
              "      <td>6</td>\n",
              "      <td>6</td>\n",
              "      <td>bat</td>\n",
              "      <td>7</td>\n",
              "      <td>wickets</td>\n",
              "      <td>9.0</td>\n",
              "      <td>N</td>\n",
              "      <td>NaN</td>\n",
              "      <td>Aleem Dar</td>\n",
              "      <td>GA Pratapkumar</td>\n",
              "    </tr>\n",
              "    <tr>\n",
              "      <th>3</th>\n",
              "      <td>335985</td>\n",
              "      <td>Mumbai</td>\n",
              "      <td>2008-04-20</td>\n",
              "      <td>MV Boucher</td>\n",
              "      <td>Wankhede Stadium</td>\n",
              "      <td>0</td>\n",
              "      <td>1</td>\n",
              "      <td>3</td>\n",
              "      <td>1</td>\n",
              "      <td>bat</td>\n",
              "      <td>3</td>\n",
              "      <td>wickets</td>\n",
              "      <td>5.0</td>\n",
              "      <td>N</td>\n",
              "      <td>NaN</td>\n",
              "      <td>SJ Davis</td>\n",
              "      <td>DJ Harper</td>\n",
              "    </tr>\n",
              "    <tr>\n",
              "      <th>4</th>\n",
              "      <td>335986</td>\n",
              "      <td>Kolkata</td>\n",
              "      <td>2008-04-20</td>\n",
              "      <td>DJ Hussey</td>\n",
              "      <td>Eden Gardens</td>\n",
              "      <td>0</td>\n",
              "      <td>2</td>\n",
              "      <td>4</td>\n",
              "      <td>4</td>\n",
              "      <td>bat</td>\n",
              "      <td>2</td>\n",
              "      <td>wickets</td>\n",
              "      <td>5.0</td>\n",
              "      <td>N</td>\n",
              "      <td>NaN</td>\n",
              "      <td>BF Bowden</td>\n",
              "      <td>K Hariharan</td>\n",
              "    </tr>\n",
              "  </tbody>\n",
              "</table>\n",
              "</div>"
            ],
            "text/plain": [
              "       id        city        date  ... method    umpire1         umpire2\n",
              "0  335982   Bangalore  2008-04-18  ...    NaN  Asad Rauf     RE Koertzen\n",
              "1  335983  Chandigarh  2008-04-19  ...    NaN  MR Benson      SL Shastri\n",
              "2  335984       Delhi  2008-04-19  ...    NaN  Aleem Dar  GA Pratapkumar\n",
              "3  335985      Mumbai  2008-04-20  ...    NaN   SJ Davis       DJ Harper\n",
              "4  335986     Kolkata  2008-04-20  ...    NaN  BF Bowden     K Hariharan\n",
              "\n",
              "[5 rows x 17 columns]"
            ]
          },
          "metadata": {},
          "execution_count": 22
        }
      ]
    },
    {
      "cell_type": "code",
      "metadata": {
        "colab": {
          "base_uri": "https://localhost:8080/"
        },
        "id": "wooden-pathology",
        "outputId": "96f25afe-c910-4dca-b59f-439260d87e42"
      },
      "source": [
        "match_df.info()"
      ],
      "id": "wooden-pathology",
      "execution_count": null,
      "outputs": [
        {
          "output_type": "stream",
          "name": "stdout",
          "text": [
            "<class 'pandas.core.frame.DataFrame'>\n",
            "Int64Index: 812 entries, 0 to 815\n",
            "Data columns (total 17 columns):\n",
            " #   Column           Non-Null Count  Dtype  \n",
            "---  ------           --------------  -----  \n",
            " 0   id               812 non-null    int64  \n",
            " 1   city             799 non-null    object \n",
            " 2   date             812 non-null    object \n",
            " 3   player_of_match  812 non-null    object \n",
            " 4   venue            812 non-null    object \n",
            " 5   neutral_venue    812 non-null    int64  \n",
            " 6   team1            812 non-null    int64  \n",
            " 7   team2            812 non-null    int64  \n",
            " 8   toss_winner      812 non-null    int64  \n",
            " 9   toss_decision    812 non-null    object \n",
            " 10  winner           812 non-null    int64  \n",
            " 11  result           812 non-null    object \n",
            " 12  result_margin    799 non-null    float64\n",
            " 13  eliminator       812 non-null    object \n",
            " 14  method           19 non-null     object \n",
            " 15  umpire1          812 non-null    object \n",
            " 16  umpire2          812 non-null    object \n",
            "dtypes: float64(1), int64(6), object(10)\n",
            "memory usage: 154.2+ KB\n"
          ]
        }
      ]
    },
    {
      "cell_type": "markdown",
      "metadata": {
        "id": "Wru8lhCQuNvJ"
      },
      "source": [
        "**Text Preprocessing and Data Analysis**"
      ],
      "id": "Wru8lhCQuNvJ"
    },
    {
      "cell_type": "code",
      "metadata": {
        "colab": {
          "base_uri": "https://localhost:8080/"
        },
        "id": "focused-upper",
        "outputId": "45f8e791-2857-42ba-e5b7-f99a69f7eacc"
      },
      "source": [
        "match_df['city'].value_counts()"
      ],
      "id": "focused-upper",
      "execution_count": null,
      "outputs": [
        {
          "output_type": "execute_result",
          "data": {
            "text/plain": [
              "Mumbai            101\n",
              "Kolkata            77\n",
              "Delhi              73\n",
              "Hyderabad          64\n",
              "Bangalore          63\n",
              "Chennai            57\n",
              "Chandigarh         56\n",
              "Jaipur             47\n",
              "Pune               38\n",
              "Abu Dhabi          29\n",
              "Dubai              26\n",
              "Durban             15\n",
              "Bengaluru          14\n",
              "Visakhapatnam      13\n",
              "Sharjah            12\n",
              "Centurion          12\n",
              "Ahmedabad          12\n",
              "Rajkot             10\n",
              "Indore              9\n",
              "Dharamsala          9\n",
              "Johannesburg        8\n",
              "Cape Town           7\n",
              "Ranchi              7\n",
              "Cuttack             7\n",
              "Port Elizabeth      7\n",
              "Raipur              6\n",
              "Kochi               5\n",
              "Kanpur              4\n",
              "East London         3\n",
              "Kimberley           3\n",
              "Nagpur              3\n",
              "Bloemfontein        2\n",
              "Name: city, dtype: int64"
            ]
          },
          "metadata": {},
          "execution_count": 24
        }
      ]
    },
    {
      "cell_type": "code",
      "metadata": {
        "colab": {
          "base_uri": "https://localhost:8080/"
        },
        "id": "ideal-magnet",
        "outputId": "98e61b63-9a34-43f5-c0ff-94e5b09ca9fa"
      },
      "source": [
        "match_df.info()"
      ],
      "id": "ideal-magnet",
      "execution_count": null,
      "outputs": [
        {
          "output_type": "stream",
          "name": "stdout",
          "text": [
            "<class 'pandas.core.frame.DataFrame'>\n",
            "Int64Index: 812 entries, 0 to 815\n",
            "Data columns (total 17 columns):\n",
            " #   Column           Non-Null Count  Dtype  \n",
            "---  ------           --------------  -----  \n",
            " 0   id               812 non-null    int64  \n",
            " 1   city             799 non-null    object \n",
            " 2   date             812 non-null    object \n",
            " 3   player_of_match  812 non-null    object \n",
            " 4   venue            812 non-null    object \n",
            " 5   neutral_venue    812 non-null    int64  \n",
            " 6   team1            812 non-null    int64  \n",
            " 7   team2            812 non-null    int64  \n",
            " 8   toss_winner      812 non-null    int64  \n",
            " 9   toss_decision    812 non-null    object \n",
            " 10  winner           812 non-null    int64  \n",
            " 11  result           812 non-null    object \n",
            " 12  result_margin    799 non-null    float64\n",
            " 13  eliminator       812 non-null    object \n",
            " 14  method           19 non-null     object \n",
            " 15  umpire1          812 non-null    object \n",
            " 16  umpire2          812 non-null    object \n",
            "dtypes: float64(1), int64(6), object(10)\n",
            "memory usage: 154.2+ KB\n"
          ]
        }
      ]
    },
    {
      "cell_type": "code",
      "metadata": {
        "colab": {
          "base_uri": "https://localhost:8080/"
        },
        "id": "regulation-marina",
        "outputId": "83ce88c0-7ad9-426c-a61f-74b036cf1d3c"
      },
      "source": [
        "rs=len(match_df['city'])\n",
        "print(rs)"
      ],
      "id": "regulation-marina",
      "execution_count": null,
      "outputs": [
        {
          "output_type": "stream",
          "name": "stdout",
          "text": [
            "812\n"
          ]
        }
      ]
    },
    {
      "cell_type": "code",
      "metadata": {
        "colab": {
          "base_uri": "https://localhost:8080/",
          "height": 1000
        },
        "id": "durable-idaho",
        "outputId": "da4704cd-409a-492c-c1ab-b450ca3b8308"
      },
      "source": [
        "match_df[match_df['city'].isnull()==True]"
      ],
      "id": "durable-idaho",
      "execution_count": null,
      "outputs": [
        {
          "output_type": "execute_result",
          "data": {
            "text/html": [
              "<div>\n",
              "<style scoped>\n",
              "    .dataframe tbody tr th:only-of-type {\n",
              "        vertical-align: middle;\n",
              "    }\n",
              "\n",
              "    .dataframe tbody tr th {\n",
              "        vertical-align: top;\n",
              "    }\n",
              "\n",
              "    .dataframe thead th {\n",
              "        text-align: right;\n",
              "    }\n",
              "</style>\n",
              "<table border=\"1\" class=\"dataframe\">\n",
              "  <thead>\n",
              "    <tr style=\"text-align: right;\">\n",
              "      <th></th>\n",
              "      <th>id</th>\n",
              "      <th>city</th>\n",
              "      <th>date</th>\n",
              "      <th>player_of_match</th>\n",
              "      <th>venue</th>\n",
              "      <th>neutral_venue</th>\n",
              "      <th>team1</th>\n",
              "      <th>team2</th>\n",
              "      <th>toss_winner</th>\n",
              "      <th>toss_decision</th>\n",
              "      <th>winner</th>\n",
              "      <th>result</th>\n",
              "      <th>result_margin</th>\n",
              "      <th>eliminator</th>\n",
              "      <th>method</th>\n",
              "      <th>umpire1</th>\n",
              "      <th>umpire2</th>\n",
              "    </tr>\n",
              "  </thead>\n",
              "  <tbody>\n",
              "    <tr>\n",
              "      <th>399</th>\n",
              "      <td>729281</td>\n",
              "      <td>NaN</td>\n",
              "      <td>2014-04-17</td>\n",
              "      <td>YS Chahal</td>\n",
              "      <td>Sharjah Cricket Stadium</td>\n",
              "      <td>1</td>\n",
              "      <td>7</td>\n",
              "      <td>3</td>\n",
              "      <td>3</td>\n",
              "      <td>field</td>\n",
              "      <td>3</td>\n",
              "      <td>wickets</td>\n",
              "      <td>8.0</td>\n",
              "      <td>N</td>\n",
              "      <td>NaN</td>\n",
              "      <td>Aleem Dar</td>\n",
              "      <td>S Ravi</td>\n",
              "    </tr>\n",
              "    <tr>\n",
              "      <th>402</th>\n",
              "      <td>729287</td>\n",
              "      <td>NaN</td>\n",
              "      <td>2014-04-19</td>\n",
              "      <td>PA Patel</td>\n",
              "      <td>Dubai International Cricket Stadium</td>\n",
              "      <td>1</td>\n",
              "      <td>3</td>\n",
              "      <td>1</td>\n",
              "      <td>3</td>\n",
              "      <td>field</td>\n",
              "      <td>3</td>\n",
              "      <td>wickets</td>\n",
              "      <td>7.0</td>\n",
              "      <td>N</td>\n",
              "      <td>NaN</td>\n",
              "      <td>Aleem Dar</td>\n",
              "      <td>AK Chaudhary</td>\n",
              "    </tr>\n",
              "    <tr>\n",
              "      <th>403</th>\n",
              "      <td>729289</td>\n",
              "      <td>NaN</td>\n",
              "      <td>2014-04-19</td>\n",
              "      <td>JP Duminy</td>\n",
              "      <td>Dubai International Cricket Stadium</td>\n",
              "      <td>1</td>\n",
              "      <td>2</td>\n",
              "      <td>7</td>\n",
              "      <td>2</td>\n",
              "      <td>bat</td>\n",
              "      <td>7</td>\n",
              "      <td>wickets</td>\n",
              "      <td>4.0</td>\n",
              "      <td>N</td>\n",
              "      <td>NaN</td>\n",
              "      <td>Aleem Dar</td>\n",
              "      <td>VA Kulkarni</td>\n",
              "    </tr>\n",
              "    <tr>\n",
              "      <th>404</th>\n",
              "      <td>729291</td>\n",
              "      <td>NaN</td>\n",
              "      <td>2014-04-20</td>\n",
              "      <td>GJ Maxwell</td>\n",
              "      <td>Sharjah Cricket Stadium</td>\n",
              "      <td>1</td>\n",
              "      <td>6</td>\n",
              "      <td>9</td>\n",
              "      <td>9</td>\n",
              "      <td>field</td>\n",
              "      <td>9</td>\n",
              "      <td>wickets</td>\n",
              "      <td>7.0</td>\n",
              "      <td>N</td>\n",
              "      <td>NaN</td>\n",
              "      <td>BF Bowden</td>\n",
              "      <td>M Erasmus</td>\n",
              "    </tr>\n",
              "    <tr>\n",
              "      <th>406</th>\n",
              "      <td>729295</td>\n",
              "      <td>NaN</td>\n",
              "      <td>2014-04-22</td>\n",
              "      <td>GJ Maxwell</td>\n",
              "      <td>Sharjah Cricket Stadium</td>\n",
              "      <td>1</td>\n",
              "      <td>9</td>\n",
              "      <td>10</td>\n",
              "      <td>10</td>\n",
              "      <td>field</td>\n",
              "      <td>9</td>\n",
              "      <td>runs</td>\n",
              "      <td>72.0</td>\n",
              "      <td>N</td>\n",
              "      <td>NaN</td>\n",
              "      <td>M Erasmus</td>\n",
              "      <td>S Ravi</td>\n",
              "    </tr>\n",
              "    <tr>\n",
              "      <th>407</th>\n",
              "      <td>729297</td>\n",
              "      <td>NaN</td>\n",
              "      <td>2014-04-23</td>\n",
              "      <td>RA Jadeja</td>\n",
              "      <td>Dubai International Cricket Stadium</td>\n",
              "      <td>1</td>\n",
              "      <td>6</td>\n",
              "      <td>5</td>\n",
              "      <td>6</td>\n",
              "      <td>field</td>\n",
              "      <td>5</td>\n",
              "      <td>runs</td>\n",
              "      <td>7.0</td>\n",
              "      <td>N</td>\n",
              "      <td>NaN</td>\n",
              "      <td>HDPK Dharmasena</td>\n",
              "      <td>RK Illingworth</td>\n",
              "    </tr>\n",
              "    <tr>\n",
              "      <th>408</th>\n",
              "      <td>729299</td>\n",
              "      <td>NaN</td>\n",
              "      <td>2014-04-24</td>\n",
              "      <td>CA Lynn</td>\n",
              "      <td>Sharjah Cricket Stadium</td>\n",
              "      <td>1</td>\n",
              "      <td>3</td>\n",
              "      <td>2</td>\n",
              "      <td>3</td>\n",
              "      <td>field</td>\n",
              "      <td>2</td>\n",
              "      <td>runs</td>\n",
              "      <td>2.0</td>\n",
              "      <td>N</td>\n",
              "      <td>NaN</td>\n",
              "      <td>Aleem Dar</td>\n",
              "      <td>VA Kulkarni</td>\n",
              "    </tr>\n",
              "    <tr>\n",
              "      <th>409</th>\n",
              "      <td>729301</td>\n",
              "      <td>NaN</td>\n",
              "      <td>2014-04-25</td>\n",
              "      <td>AJ Finch</td>\n",
              "      <td>Dubai International Cricket Stadium</td>\n",
              "      <td>1</td>\n",
              "      <td>10</td>\n",
              "      <td>7</td>\n",
              "      <td>10</td>\n",
              "      <td>bat</td>\n",
              "      <td>10</td>\n",
              "      <td>runs</td>\n",
              "      <td>4.0</td>\n",
              "      <td>N</td>\n",
              "      <td>NaN</td>\n",
              "      <td>M Erasmus</td>\n",
              "      <td>S Ravi</td>\n",
              "    </tr>\n",
              "    <tr>\n",
              "      <th>410</th>\n",
              "      <td>729303</td>\n",
              "      <td>NaN</td>\n",
              "      <td>2014-04-25</td>\n",
              "      <td>MM Sharma</td>\n",
              "      <td>Dubai International Cricket Stadium</td>\n",
              "      <td>1</td>\n",
              "      <td>5</td>\n",
              "      <td>1</td>\n",
              "      <td>1</td>\n",
              "      <td>bat</td>\n",
              "      <td>5</td>\n",
              "      <td>wickets</td>\n",
              "      <td>7.0</td>\n",
              "      <td>N</td>\n",
              "      <td>NaN</td>\n",
              "      <td>BF Bowden</td>\n",
              "      <td>M Erasmus</td>\n",
              "    </tr>\n",
              "    <tr>\n",
              "      <th>413</th>\n",
              "      <td>729309</td>\n",
              "      <td>NaN</td>\n",
              "      <td>2014-04-27</td>\n",
              "      <td>M Vijay</td>\n",
              "      <td>Sharjah Cricket Stadium</td>\n",
              "      <td>1</td>\n",
              "      <td>7</td>\n",
              "      <td>1</td>\n",
              "      <td>1</td>\n",
              "      <td>bat</td>\n",
              "      <td>7</td>\n",
              "      <td>wickets</td>\n",
              "      <td>6.0</td>\n",
              "      <td>N</td>\n",
              "      <td>NaN</td>\n",
              "      <td>Aleem Dar</td>\n",
              "      <td>VA Kulkarni</td>\n",
              "    </tr>\n",
              "    <tr>\n",
              "      <th>414</th>\n",
              "      <td>729311</td>\n",
              "      <td>NaN</td>\n",
              "      <td>2014-04-27</td>\n",
              "      <td>DR Smith</td>\n",
              "      <td>Sharjah Cricket Stadium</td>\n",
              "      <td>1</td>\n",
              "      <td>10</td>\n",
              "      <td>5</td>\n",
              "      <td>10</td>\n",
              "      <td>bat</td>\n",
              "      <td>5</td>\n",
              "      <td>wickets</td>\n",
              "      <td>5.0</td>\n",
              "      <td>N</td>\n",
              "      <td>NaN</td>\n",
              "      <td>AK Chaudhary</td>\n",
              "      <td>VA Kulkarni</td>\n",
              "    </tr>\n",
              "    <tr>\n",
              "      <th>415</th>\n",
              "      <td>729313</td>\n",
              "      <td>NaN</td>\n",
              "      <td>2014-04-28</td>\n",
              "      <td>Sandeep Sharma</td>\n",
              "      <td>Dubai International Cricket Stadium</td>\n",
              "      <td>1</td>\n",
              "      <td>9</td>\n",
              "      <td>3</td>\n",
              "      <td>9</td>\n",
              "      <td>field</td>\n",
              "      <td>9</td>\n",
              "      <td>wickets</td>\n",
              "      <td>5.0</td>\n",
              "      <td>N</td>\n",
              "      <td>NaN</td>\n",
              "      <td>BF Bowden</td>\n",
              "      <td>S Ravi</td>\n",
              "    </tr>\n",
              "    <tr>\n",
              "      <th>417</th>\n",
              "      <td>729317</td>\n",
              "      <td>NaN</td>\n",
              "      <td>2014-04-30</td>\n",
              "      <td>B Kumar</td>\n",
              "      <td>Dubai International Cricket Stadium</td>\n",
              "      <td>1</td>\n",
              "      <td>1</td>\n",
              "      <td>10</td>\n",
              "      <td>1</td>\n",
              "      <td>field</td>\n",
              "      <td>10</td>\n",
              "      <td>runs</td>\n",
              "      <td>15.0</td>\n",
              "      <td>N</td>\n",
              "      <td>NaN</td>\n",
              "      <td>HDPK Dharmasena</td>\n",
              "      <td>M Erasmus</td>\n",
              "    </tr>\n",
              "  </tbody>\n",
              "</table>\n",
              "</div>"
            ],
            "text/plain": [
              "         id city        date  ... method          umpire1         umpire2\n",
              "399  729281  NaN  2014-04-17  ...    NaN        Aleem Dar          S Ravi\n",
              "402  729287  NaN  2014-04-19  ...    NaN        Aleem Dar    AK Chaudhary\n",
              "403  729289  NaN  2014-04-19  ...    NaN        Aleem Dar     VA Kulkarni\n",
              "404  729291  NaN  2014-04-20  ...    NaN        BF Bowden       M Erasmus\n",
              "406  729295  NaN  2014-04-22  ...    NaN        M Erasmus          S Ravi\n",
              "407  729297  NaN  2014-04-23  ...    NaN  HDPK Dharmasena  RK Illingworth\n",
              "408  729299  NaN  2014-04-24  ...    NaN        Aleem Dar     VA Kulkarni\n",
              "409  729301  NaN  2014-04-25  ...    NaN        M Erasmus          S Ravi\n",
              "410  729303  NaN  2014-04-25  ...    NaN        BF Bowden       M Erasmus\n",
              "413  729309  NaN  2014-04-27  ...    NaN        Aleem Dar     VA Kulkarni\n",
              "414  729311  NaN  2014-04-27  ...    NaN     AK Chaudhary     VA Kulkarni\n",
              "415  729313  NaN  2014-04-28  ...    NaN        BF Bowden          S Ravi\n",
              "417  729317  NaN  2014-04-30  ...    NaN  HDPK Dharmasena       M Erasmus\n",
              "\n",
              "[13 rows x 17 columns]"
            ]
          },
          "metadata": {},
          "execution_count": 27
        }
      ]
    },
    {
      "cell_type": "code",
      "metadata": {
        "colab": {
          "base_uri": "https://localhost:8080/"
        },
        "id": "emotional-controversy",
        "outputId": "d7659ef5-ce23-47fd-f58f-c928d1570b75"
      },
      "source": [
        "print(type(match_df['venue'][417]))"
      ],
      "id": "emotional-controversy",
      "execution_count": null,
      "outputs": [
        {
          "output_type": "stream",
          "name": "stdout",
          "text": [
            "<class 'str'>\n"
          ]
        }
      ]
    },
    {
      "cell_type": "code",
      "metadata": {
        "colab": {
          "base_uri": "https://localhost:8080/"
        },
        "id": "immediate-seminar",
        "outputId": "b1084b73-ac40-4649-a97a-832de2f57cb7"
      },
      "source": [
        "print(match_df['venue'][417].split(' ')[0])"
      ],
      "id": "immediate-seminar",
      "execution_count": null,
      "outputs": [
        {
          "output_type": "stream",
          "name": "stdout",
          "text": [
            "Dubai\n"
          ]
        }
      ]
    },
    {
      "cell_type": "code",
      "metadata": {
        "id": "durable-shipping"
      },
      "source": [
        "match_df['city'].fillna(match_df['venue'],inplace=True)"
      ],
      "id": "durable-shipping",
      "execution_count": null,
      "outputs": []
    },
    {
      "cell_type": "code",
      "metadata": {
        "colab": {
          "base_uri": "https://localhost:8080/",
          "height": 808
        },
        "id": "general-internship",
        "outputId": "ba07c4c7-7f93-4dc0-877a-3f38bfb4c81d"
      },
      "source": [
        "match_df.head(418)"
      ],
      "id": "general-internship",
      "execution_count": null,
      "outputs": [
        {
          "output_type": "execute_result",
          "data": {
            "text/html": [
              "<div>\n",
              "<style scoped>\n",
              "    .dataframe tbody tr th:only-of-type {\n",
              "        vertical-align: middle;\n",
              "    }\n",
              "\n",
              "    .dataframe tbody tr th {\n",
              "        vertical-align: top;\n",
              "    }\n",
              "\n",
              "    .dataframe thead th {\n",
              "        text-align: right;\n",
              "    }\n",
              "</style>\n",
              "<table border=\"1\" class=\"dataframe\">\n",
              "  <thead>\n",
              "    <tr style=\"text-align: right;\">\n",
              "      <th></th>\n",
              "      <th>id</th>\n",
              "      <th>city</th>\n",
              "      <th>date</th>\n",
              "      <th>player_of_match</th>\n",
              "      <th>venue</th>\n",
              "      <th>neutral_venue</th>\n",
              "      <th>team1</th>\n",
              "      <th>team2</th>\n",
              "      <th>toss_winner</th>\n",
              "      <th>toss_decision</th>\n",
              "      <th>winner</th>\n",
              "      <th>result</th>\n",
              "      <th>result_margin</th>\n",
              "      <th>eliminator</th>\n",
              "      <th>method</th>\n",
              "      <th>umpire1</th>\n",
              "      <th>umpire2</th>\n",
              "    </tr>\n",
              "  </thead>\n",
              "  <tbody>\n",
              "    <tr>\n",
              "      <th>0</th>\n",
              "      <td>335982</td>\n",
              "      <td>Bangalore</td>\n",
              "      <td>2008-04-18</td>\n",
              "      <td>BB McCullum</td>\n",
              "      <td>M Chinnaswamy Stadium</td>\n",
              "      <td>0</td>\n",
              "      <td>3</td>\n",
              "      <td>2</td>\n",
              "      <td>3</td>\n",
              "      <td>field</td>\n",
              "      <td>2</td>\n",
              "      <td>runs</td>\n",
              "      <td>140.0</td>\n",
              "      <td>N</td>\n",
              "      <td>NaN</td>\n",
              "      <td>Asad Rauf</td>\n",
              "      <td>RE Koertzen</td>\n",
              "    </tr>\n",
              "    <tr>\n",
              "      <th>1</th>\n",
              "      <td>335983</td>\n",
              "      <td>Chandigarh</td>\n",
              "      <td>2008-04-19</td>\n",
              "      <td>MEK Hussey</td>\n",
              "      <td>Punjab Cricket Association Stadium, Mohali</td>\n",
              "      <td>0</td>\n",
              "      <td>9</td>\n",
              "      <td>5</td>\n",
              "      <td>5</td>\n",
              "      <td>bat</td>\n",
              "      <td>5</td>\n",
              "      <td>runs</td>\n",
              "      <td>33.0</td>\n",
              "      <td>N</td>\n",
              "      <td>NaN</td>\n",
              "      <td>MR Benson</td>\n",
              "      <td>SL Shastri</td>\n",
              "    </tr>\n",
              "    <tr>\n",
              "      <th>2</th>\n",
              "      <td>335984</td>\n",
              "      <td>Delhi</td>\n",
              "      <td>2008-04-19</td>\n",
              "      <td>MF Maharoof</td>\n",
              "      <td>Feroz Shah Kotla</td>\n",
              "      <td>0</td>\n",
              "      <td>7</td>\n",
              "      <td>6</td>\n",
              "      <td>6</td>\n",
              "      <td>bat</td>\n",
              "      <td>7</td>\n",
              "      <td>wickets</td>\n",
              "      <td>9.0</td>\n",
              "      <td>N</td>\n",
              "      <td>NaN</td>\n",
              "      <td>Aleem Dar</td>\n",
              "      <td>GA Pratapkumar</td>\n",
              "    </tr>\n",
              "    <tr>\n",
              "      <th>3</th>\n",
              "      <td>335985</td>\n",
              "      <td>Mumbai</td>\n",
              "      <td>2008-04-20</td>\n",
              "      <td>MV Boucher</td>\n",
              "      <td>Wankhede Stadium</td>\n",
              "      <td>0</td>\n",
              "      <td>1</td>\n",
              "      <td>3</td>\n",
              "      <td>1</td>\n",
              "      <td>bat</td>\n",
              "      <td>3</td>\n",
              "      <td>wickets</td>\n",
              "      <td>5.0</td>\n",
              "      <td>N</td>\n",
              "      <td>NaN</td>\n",
              "      <td>SJ Davis</td>\n",
              "      <td>DJ Harper</td>\n",
              "    </tr>\n",
              "    <tr>\n",
              "      <th>4</th>\n",
              "      <td>335986</td>\n",
              "      <td>Kolkata</td>\n",
              "      <td>2008-04-20</td>\n",
              "      <td>DJ Hussey</td>\n",
              "      <td>Eden Gardens</td>\n",
              "      <td>0</td>\n",
              "      <td>2</td>\n",
              "      <td>4</td>\n",
              "      <td>4</td>\n",
              "      <td>bat</td>\n",
              "      <td>2</td>\n",
              "      <td>wickets</td>\n",
              "      <td>5.0</td>\n",
              "      <td>N</td>\n",
              "      <td>NaN</td>\n",
              "      <td>BF Bowden</td>\n",
              "      <td>K Hariharan</td>\n",
              "    </tr>\n",
              "    <tr>\n",
              "      <th>...</th>\n",
              "      <td>...</td>\n",
              "      <td>...</td>\n",
              "      <td>...</td>\n",
              "      <td>...</td>\n",
              "      <td>...</td>\n",
              "      <td>...</td>\n",
              "      <td>...</td>\n",
              "      <td>...</td>\n",
              "      <td>...</td>\n",
              "      <td>...</td>\n",
              "      <td>...</td>\n",
              "      <td>...</td>\n",
              "      <td>...</td>\n",
              "      <td>...</td>\n",
              "      <td>...</td>\n",
              "      <td>...</td>\n",
              "      <td>...</td>\n",
              "    </tr>\n",
              "    <tr>\n",
              "      <th>414</th>\n",
              "      <td>729311</td>\n",
              "      <td>Sharjah Cricket Stadium</td>\n",
              "      <td>2014-04-27</td>\n",
              "      <td>DR Smith</td>\n",
              "      <td>Sharjah Cricket Stadium</td>\n",
              "      <td>1</td>\n",
              "      <td>10</td>\n",
              "      <td>5</td>\n",
              "      <td>10</td>\n",
              "      <td>bat</td>\n",
              "      <td>5</td>\n",
              "      <td>wickets</td>\n",
              "      <td>5.0</td>\n",
              "      <td>N</td>\n",
              "      <td>NaN</td>\n",
              "      <td>AK Chaudhary</td>\n",
              "      <td>VA Kulkarni</td>\n",
              "    </tr>\n",
              "    <tr>\n",
              "      <th>415</th>\n",
              "      <td>729313</td>\n",
              "      <td>Dubai International Cricket Stadium</td>\n",
              "      <td>2014-04-28</td>\n",
              "      <td>Sandeep Sharma</td>\n",
              "      <td>Dubai International Cricket Stadium</td>\n",
              "      <td>1</td>\n",
              "      <td>9</td>\n",
              "      <td>3</td>\n",
              "      <td>9</td>\n",
              "      <td>field</td>\n",
              "      <td>9</td>\n",
              "      <td>wickets</td>\n",
              "      <td>5.0</td>\n",
              "      <td>N</td>\n",
              "      <td>NaN</td>\n",
              "      <td>BF Bowden</td>\n",
              "      <td>S Ravi</td>\n",
              "    </tr>\n",
              "    <tr>\n",
              "      <th>416</th>\n",
              "      <td>729315</td>\n",
              "      <td>Abu Dhabi</td>\n",
              "      <td>2014-04-29</td>\n",
              "      <td>JP Faulkner</td>\n",
              "      <td>Sheikh Zayed Stadium</td>\n",
              "      <td>1</td>\n",
              "      <td>2</td>\n",
              "      <td>6</td>\n",
              "      <td>6</td>\n",
              "      <td>bat</td>\n",
              "      <td>6</td>\n",
              "      <td>tie</td>\n",
              "      <td>NaN</td>\n",
              "      <td>Y</td>\n",
              "      <td>NaN</td>\n",
              "      <td>Aleem Dar</td>\n",
              "      <td>AK Chaudhary</td>\n",
              "    </tr>\n",
              "    <tr>\n",
              "      <th>417</th>\n",
              "      <td>729317</td>\n",
              "      <td>Dubai International Cricket Stadium</td>\n",
              "      <td>2014-04-30</td>\n",
              "      <td>B Kumar</td>\n",
              "      <td>Dubai International Cricket Stadium</td>\n",
              "      <td>1</td>\n",
              "      <td>1</td>\n",
              "      <td>10</td>\n",
              "      <td>1</td>\n",
              "      <td>field</td>\n",
              "      <td>10</td>\n",
              "      <td>runs</td>\n",
              "      <td>15.0</td>\n",
              "      <td>N</td>\n",
              "      <td>NaN</td>\n",
              "      <td>HDPK Dharmasena</td>\n",
              "      <td>M Erasmus</td>\n",
              "    </tr>\n",
              "    <tr>\n",
              "      <th>418</th>\n",
              "      <td>733971</td>\n",
              "      <td>Ranchi</td>\n",
              "      <td>2014-05-02</td>\n",
              "      <td>RA Jadeja</td>\n",
              "      <td>JSCA International Stadium Complex</td>\n",
              "      <td>0</td>\n",
              "      <td>5</td>\n",
              "      <td>2</td>\n",
              "      <td>5</td>\n",
              "      <td>bat</td>\n",
              "      <td>5</td>\n",
              "      <td>runs</td>\n",
              "      <td>34.0</td>\n",
              "      <td>N</td>\n",
              "      <td>NaN</td>\n",
              "      <td>AK Chaudhary</td>\n",
              "      <td>NJ Llong</td>\n",
              "    </tr>\n",
              "  </tbody>\n",
              "</table>\n",
              "<p>418 rows × 17 columns</p>\n",
              "</div>"
            ],
            "text/plain": [
              "         id  ...         umpire2\n",
              "0    335982  ...     RE Koertzen\n",
              "1    335983  ...      SL Shastri\n",
              "2    335984  ...  GA Pratapkumar\n",
              "3    335985  ...       DJ Harper\n",
              "4    335986  ...     K Hariharan\n",
              "..      ...  ...             ...\n",
              "414  729311  ...     VA Kulkarni\n",
              "415  729313  ...          S Ravi\n",
              "416  729315  ...    AK Chaudhary\n",
              "417  729317  ...       M Erasmus\n",
              "418  733971  ...        NJ Llong\n",
              "\n",
              "[418 rows x 17 columns]"
            ]
          },
          "metadata": {},
          "execution_count": 31
        }
      ]
    },
    {
      "cell_type": "code",
      "metadata": {
        "colab": {
          "base_uri": "https://localhost:8080/",
          "height": 35
        },
        "id": "minimal-parade",
        "outputId": "da4a4b35-3460-4ef6-d1df-6a697b5764a1"
      },
      "source": [
        "match_df['venue'][417]"
      ],
      "id": "minimal-parade",
      "execution_count": null,
      "outputs": [
        {
          "output_type": "execute_result",
          "data": {
            "application/vnd.google.colaboratory.intrinsic+json": {
              "type": "string"
            },
            "text/plain": [
              "'Dubai International Cricket Stadium'"
            ]
          },
          "metadata": {},
          "execution_count": 32
        }
      ]
    },
    {
      "cell_type": "code",
      "metadata": {
        "colab": {
          "base_uri": "https://localhost:8080/",
          "height": 300
        },
        "id": "casual-professor",
        "outputId": "b6d0eefd-28fa-44ae-a194-0d462a9c3ea9"
      },
      "source": [
        "match_df.describe()"
      ],
      "id": "casual-professor",
      "execution_count": null,
      "outputs": [
        {
          "output_type": "execute_result",
          "data": {
            "text/html": [
              "<div>\n",
              "<style scoped>\n",
              "    .dataframe tbody tr th:only-of-type {\n",
              "        vertical-align: middle;\n",
              "    }\n",
              "\n",
              "    .dataframe tbody tr th {\n",
              "        vertical-align: top;\n",
              "    }\n",
              "\n",
              "    .dataframe thead th {\n",
              "        text-align: right;\n",
              "    }\n",
              "</style>\n",
              "<table border=\"1\" class=\"dataframe\">\n",
              "  <thead>\n",
              "    <tr style=\"text-align: right;\">\n",
              "      <th></th>\n",
              "      <th>id</th>\n",
              "      <th>neutral_venue</th>\n",
              "      <th>team1</th>\n",
              "      <th>team2</th>\n",
              "      <th>toss_winner</th>\n",
              "      <th>winner</th>\n",
              "      <th>result_margin</th>\n",
              "    </tr>\n",
              "  </thead>\n",
              "  <tbody>\n",
              "    <tr>\n",
              "      <th>count</th>\n",
              "      <td>8.120000e+02</td>\n",
              "      <td>812.000000</td>\n",
              "      <td>812.00000</td>\n",
              "      <td>812.000000</td>\n",
              "      <td>812.000000</td>\n",
              "      <td>812.000000</td>\n",
              "      <td>799.000000</td>\n",
              "    </tr>\n",
              "    <tr>\n",
              "      <th>mean</th>\n",
              "      <td>7.559630e+05</td>\n",
              "      <td>0.094828</td>\n",
              "      <td>5.62931</td>\n",
              "      <td>5.645320</td>\n",
              "      <td>5.559113</td>\n",
              "      <td>5.427340</td>\n",
              "      <td>17.321652</td>\n",
              "    </tr>\n",
              "    <tr>\n",
              "      <th>std</th>\n",
              "      <td>3.061363e+05</td>\n",
              "      <td>0.293157</td>\n",
              "      <td>3.49236</td>\n",
              "      <td>3.474737</td>\n",
              "      <td>3.474793</td>\n",
              "      <td>3.462092</td>\n",
              "      <td>22.068427</td>\n",
              "    </tr>\n",
              "    <tr>\n",
              "      <th>min</th>\n",
              "      <td>3.359820e+05</td>\n",
              "      <td>0.000000</td>\n",
              "      <td>1.00000</td>\n",
              "      <td>1.000000</td>\n",
              "      <td>1.000000</td>\n",
              "      <td>1.000000</td>\n",
              "      <td>1.000000</td>\n",
              "    </tr>\n",
              "    <tr>\n",
              "      <th>25%</th>\n",
              "      <td>5.012268e+05</td>\n",
              "      <td>0.000000</td>\n",
              "      <td>3.00000</td>\n",
              "      <td>2.750000</td>\n",
              "      <td>2.000000</td>\n",
              "      <td>2.000000</td>\n",
              "      <td>6.000000</td>\n",
              "    </tr>\n",
              "    <tr>\n",
              "      <th>50%</th>\n",
              "      <td>7.292960e+05</td>\n",
              "      <td>0.000000</td>\n",
              "      <td>5.00000</td>\n",
              "      <td>5.000000</td>\n",
              "      <td>5.000000</td>\n",
              "      <td>5.000000</td>\n",
              "      <td>8.000000</td>\n",
              "    </tr>\n",
              "    <tr>\n",
              "      <th>75%</th>\n",
              "      <td>1.082626e+06</td>\n",
              "      <td>0.000000</td>\n",
              "      <td>9.00000</td>\n",
              "      <td>9.000000</td>\n",
              "      <td>8.250000</td>\n",
              "      <td>9.000000</td>\n",
              "      <td>19.500000</td>\n",
              "    </tr>\n",
              "    <tr>\n",
              "      <th>max</th>\n",
              "      <td>1.237181e+06</td>\n",
              "      <td>1.000000</td>\n",
              "      <td>14.00000</td>\n",
              "      <td>14.000000</td>\n",
              "      <td>14.000000</td>\n",
              "      <td>14.000000</td>\n",
              "      <td>146.000000</td>\n",
              "    </tr>\n",
              "  </tbody>\n",
              "</table>\n",
              "</div>"
            ],
            "text/plain": [
              "                 id  neutral_venue  ...      winner  result_margin\n",
              "count  8.120000e+02     812.000000  ...  812.000000     799.000000\n",
              "mean   7.559630e+05       0.094828  ...    5.427340      17.321652\n",
              "std    3.061363e+05       0.293157  ...    3.462092      22.068427\n",
              "min    3.359820e+05       0.000000  ...    1.000000       1.000000\n",
              "25%    5.012268e+05       0.000000  ...    2.000000       6.000000\n",
              "50%    7.292960e+05       0.000000  ...    5.000000       8.000000\n",
              "75%    1.082626e+06       0.000000  ...    9.000000      19.500000\n",
              "max    1.237181e+06       1.000000  ...   14.000000     146.000000\n",
              "\n",
              "[8 rows x 7 columns]"
            ]
          },
          "metadata": {},
          "execution_count": 33
        }
      ]
    },
    {
      "cell_type": "code",
      "metadata": {
        "id": "lesser-feature"
      },
      "source": [
        "toss_wins=match_df['toss_winner'].value_counts(sort=True)\n",
        "match_wins=match_df['winner'].value_counts(sort=True)"
      ],
      "id": "lesser-feature",
      "execution_count": null,
      "outputs": []
    },
    {
      "cell_type": "code",
      "metadata": {
        "colab": {
          "base_uri": "https://localhost:8080/"
        },
        "id": "piano-beverage",
        "outputId": "e2d264a5-84e9-4876-96a5-90843c0e3874"
      },
      "source": [
        "for index,val in toss_wins.iteritems():\n",
        "  print(f\"{list(team_encode_dict['winner'].keys())[index-1]} : {toss_wins[index]}\")"
      ],
      "id": "piano-beverage",
      "execution_count": null,
      "outputs": [
        {
          "output_type": "stream",
          "name": "stdout",
          "text": [
            "Mumbai Indians : 106\n",
            "Kolkata Knight Riders : 98\n",
            "Chennai Super Kings : 97\n",
            "Royal Challengers Bangalore : 86\n",
            "Kings XI Punjab : 85\n",
            "Rajasthan Royals : 85\n",
            "Delhi Daredevils : 79\n",
            "Sunrisers Hyderabad : 57\n",
            "Deccan Chargers : 43\n",
            "Pune Warriors : 20\n",
            "Kochi Tuskers Kerala : 20\n",
            "Gujarat Lions : 15\n",
            "Rising Pune Supergiants : 13\n",
            "Rising Pune Supergiant : 8\n"
          ]
        }
      ]
    },
    {
      "cell_type": "code",
      "metadata": {
        "colab": {
          "base_uri": "https://localhost:8080/",
          "height": 282
        },
        "id": "covered-principle",
        "outputId": "5af7899a-9ebe-4b20-85c5-6c87ed2deeec"
      },
      "source": [
        "match_df['winner'].hist(bins=50)"
      ],
      "id": "covered-principle",
      "execution_count": null,
      "outputs": [
        {
          "output_type": "execute_result",
          "data": {
            "text/plain": [
              "<matplotlib.axes._subplots.AxesSubplot at 0x7fc4ca0148d0>"
            ]
          },
          "metadata": {},
          "execution_count": 36
        },
        {
          "output_type": "display_data",
          "data": {
            "image/png": "[encoded data removed]",
            "text/plain": [
              "<Figure size 432x288 with 1 Axes>"
            ]
          },
          "metadata": {
            "needs_background": "light"
          }
        }
      ]
    },
    {
      "cell_type": "code",
      "metadata": {
        "colab": {
          "base_uri": "https://localhost:8080/",
          "height": 315
        },
        "id": "existing-screen",
        "outputId": "236dcb2b-54a0-40ef-fb9b-ed0d80cbfa69"
      },
      "source": [
        "fig=plt.figure(figsize=(8,4))\n",
        "ax1=fig.add_subplot(121)\n",
        "ax1.set_xlabel('Team')\n",
        "ax1.set_ylabel(\"Count of toss wins\")\n",
        "ax1.set_title(\"Toss Winners\")\n",
        "toss_wins.plot(kind=\"bar\")\n",
        "\n",
        "ax2=fig.add_subplot(122)\n",
        "match_wins.plot(kind=\"bar\")\n",
        "ax2.set_xlabel('Team')\n",
        "ax2.set_ylabel(\"Count of matches won\")\n",
        "ax2.set_title(\"Match Winners\")"
      ],
      "id": "existing-screen",
      "execution_count": null,
      "outputs": [
        {
          "output_type": "execute_result",
          "data": {
            "text/plain": [
              "Text(0.5, 1.0, 'Match Winners')"
            ]
          },
          "metadata": {},
          "execution_count": 37
        },
        {
          "output_type": "display_data",
          "data": {
            "image/png": "[encoded data removed]",
            "text/plain": [
              "<Figure size 576x288 with 2 Axes>"
            ]
          },
          "metadata": {
            "needs_background": "light"
          }
        }
      ]
    },
    {
      "cell_type": "code",
      "metadata": {
        "colab": {
          "base_uri": "https://localhost:8080/"
        },
        "id": "LpTmqO0FOJNR",
        "outputId": "28098c7e-9612-4b1b-e519-44423cfededd"
      },
      "source": [
        "match_df.isnull().sum()"
      ],
      "id": "LpTmqO0FOJNR",
      "execution_count": null,
      "outputs": [
        {
          "output_type": "execute_result",
          "data": {
            "text/plain": [
              "id                   0\n",
              "city                 0\n",
              "date                 0\n",
              "player_of_match      0\n",
              "venue                0\n",
              "neutral_venue        0\n",
              "team1                0\n",
              "team2                0\n",
              "toss_winner          0\n",
              "toss_decision        0\n",
              "winner               0\n",
              "result               0\n",
              "result_margin       13\n",
              "eliminator           0\n",
              "method             793\n",
              "umpire1              0\n",
              "umpire2              0\n",
              "dtype: int64"
            ]
          },
          "metadata": {},
          "execution_count": 38
        }
      ]
    },
    {
      "cell_type": "code",
      "metadata": {
        "colab": {
          "base_uri": "https://localhost:8080/",
          "height": 423
        },
        "id": "et-l69LAtG4z",
        "outputId": "fc9671b2-4f23-4bca-e367-c6adab95f834"
      },
      "source": [
        "match_df=match_df[['id','team1','team2','city','toss_decision','toss_winner','venue','winner']]\n",
        "match_df"
      ],
      "id": "et-l69LAtG4z",
      "execution_count": null,
      "outputs": [
        {
          "output_type": "execute_result",
          "data": {
            "text/html": [
              "<div>\n",
              "<style scoped>\n",
              "    .dataframe tbody tr th:only-of-type {\n",
              "        vertical-align: middle;\n",
              "    }\n",
              "\n",
              "    .dataframe tbody tr th {\n",
              "        vertical-align: top;\n",
              "    }\n",
              "\n",
              "    .dataframe thead th {\n",
              "        text-align: right;\n",
              "    }\n",
              "</style>\n",
              "<table border=\"1\" class=\"dataframe\">\n",
              "  <thead>\n",
              "    <tr style=\"text-align: right;\">\n",
              "      <th></th>\n",
              "      <th>id</th>\n",
              "      <th>team1</th>\n",
              "      <th>team2</th>\n",
              "      <th>city</th>\n",
              "      <th>toss_decision</th>\n",
              "      <th>toss_winner</th>\n",
              "      <th>venue</th>\n",
              "      <th>winner</th>\n",
              "    </tr>\n",
              "  </thead>\n",
              "  <tbody>\n",
              "    <tr>\n",
              "      <th>0</th>\n",
              "      <td>335982</td>\n",
              "      <td>3</td>\n",
              "      <td>2</td>\n",
              "      <td>Bangalore</td>\n",
              "      <td>field</td>\n",
              "      <td>3</td>\n",
              "      <td>M Chinnaswamy Stadium</td>\n",
              "      <td>2</td>\n",
              "    </tr>\n",
              "    <tr>\n",
              "      <th>1</th>\n",
              "      <td>335983</td>\n",
              "      <td>9</td>\n",
              "      <td>5</td>\n",
              "      <td>Chandigarh</td>\n",
              "      <td>bat</td>\n",
              "      <td>5</td>\n",
              "      <td>Punjab Cricket Association Stadium, Mohali</td>\n",
              "      <td>5</td>\n",
              "    </tr>\n",
              "    <tr>\n",
              "      <th>2</th>\n",
              "      <td>335984</td>\n",
              "      <td>7</td>\n",
              "      <td>6</td>\n",
              "      <td>Delhi</td>\n",
              "      <td>bat</td>\n",
              "      <td>6</td>\n",
              "      <td>Feroz Shah Kotla</td>\n",
              "      <td>7</td>\n",
              "    </tr>\n",
              "    <tr>\n",
              "      <th>3</th>\n",
              "      <td>335985</td>\n",
              "      <td>1</td>\n",
              "      <td>3</td>\n",
              "      <td>Mumbai</td>\n",
              "      <td>bat</td>\n",
              "      <td>1</td>\n",
              "      <td>Wankhede Stadium</td>\n",
              "      <td>3</td>\n",
              "    </tr>\n",
              "    <tr>\n",
              "      <th>4</th>\n",
              "      <td>335986</td>\n",
              "      <td>2</td>\n",
              "      <td>4</td>\n",
              "      <td>Kolkata</td>\n",
              "      <td>bat</td>\n",
              "      <td>4</td>\n",
              "      <td>Eden Gardens</td>\n",
              "      <td>2</td>\n",
              "    </tr>\n",
              "    <tr>\n",
              "      <th>...</th>\n",
              "      <td>...</td>\n",
              "      <td>...</td>\n",
              "      <td>...</td>\n",
              "      <td>...</td>\n",
              "      <td>...</td>\n",
              "      <td>...</td>\n",
              "      <td>...</td>\n",
              "      <td>...</td>\n",
              "    </tr>\n",
              "    <tr>\n",
              "      <th>811</th>\n",
              "      <td>1216547</td>\n",
              "      <td>3</td>\n",
              "      <td>1</td>\n",
              "      <td>Dubai</td>\n",
              "      <td>field</td>\n",
              "      <td>1</td>\n",
              "      <td>Dubai International Cricket Stadium</td>\n",
              "      <td>3</td>\n",
              "    </tr>\n",
              "    <tr>\n",
              "      <th>812</th>\n",
              "      <td>1237177</td>\n",
              "      <td>1</td>\n",
              "      <td>14</td>\n",
              "      <td>Dubai</td>\n",
              "      <td>field</td>\n",
              "      <td>14</td>\n",
              "      <td>Dubai International Cricket Stadium</td>\n",
              "      <td>1</td>\n",
              "    </tr>\n",
              "    <tr>\n",
              "      <th>813</th>\n",
              "      <td>1237178</td>\n",
              "      <td>3</td>\n",
              "      <td>10</td>\n",
              "      <td>Abu Dhabi</td>\n",
              "      <td>field</td>\n",
              "      <td>10</td>\n",
              "      <td>Sheikh Zayed Stadium</td>\n",
              "      <td>10</td>\n",
              "    </tr>\n",
              "    <tr>\n",
              "      <th>814</th>\n",
              "      <td>1237180</td>\n",
              "      <td>14</td>\n",
              "      <td>10</td>\n",
              "      <td>Abu Dhabi</td>\n",
              "      <td>bat</td>\n",
              "      <td>14</td>\n",
              "      <td>Sheikh Zayed Stadium</td>\n",
              "      <td>14</td>\n",
              "    </tr>\n",
              "    <tr>\n",
              "      <th>815</th>\n",
              "      <td>1237181</td>\n",
              "      <td>14</td>\n",
              "      <td>1</td>\n",
              "      <td>Dubai</td>\n",
              "      <td>bat</td>\n",
              "      <td>14</td>\n",
              "      <td>Dubai International Cricket Stadium</td>\n",
              "      <td>1</td>\n",
              "    </tr>\n",
              "  </tbody>\n",
              "</table>\n",
              "<p>812 rows × 8 columns</p>\n",
              "</div>"
            ],
            "text/plain": [
              "          id  team1  ...                                       venue winner\n",
              "0     335982      3  ...                       M Chinnaswamy Stadium      2\n",
              "1     335983      9  ...  Punjab Cricket Association Stadium, Mohali      5\n",
              "2     335984      7  ...                            Feroz Shah Kotla      7\n",
              "3     335985      1  ...                            Wankhede Stadium      3\n",
              "4     335986      2  ...                                Eden Gardens      2\n",
              "..       ...    ...  ...                                         ...    ...\n",
              "811  1216547      3  ...         Dubai International Cricket Stadium      3\n",
              "812  1237177      1  ...         Dubai International Cricket Stadium      1\n",
              "813  1237178      3  ...                        Sheikh Zayed Stadium     10\n",
              "814  1237180     14  ...                        Sheikh Zayed Stadium     14\n",
              "815  1237181     14  ...         Dubai International Cricket Stadium      1\n",
              "\n",
              "[812 rows x 8 columns]"
            ]
          },
          "metadata": {},
          "execution_count": 39
        }
      ]
    },
    {
      "cell_type": "code",
      "metadata": {
        "colab": {
          "base_uri": "https://localhost:8080/",
          "height": 892
        },
        "id": "YbOawV_JOa5l",
        "outputId": "e20b1396-260d-4ce0-c2d4-0db9294509c2"
      },
      "source": [
        "from sklearn.preprocessing import LabelEncoder\n",
        "\n",
        "ftr_list = [\"city\",\"toss_decision\",'venue']\n",
        "encoder=LabelEncoder()\n",
        "for ftr in ftr_list:\n",
        "  match_df[ftr]=encoder.fit_transform(match_df[ftr])\n",
        "  print(encoder.classes_)\n",
        "match_df"
      ],
      "id": "YbOawV_JOa5l",
      "execution_count": null,
      "outputs": [
        {
          "output_type": "stream",
          "name": "stdout",
          "text": [
            "['Abu Dhabi' 'Ahmedabad' 'Bangalore' 'Bengaluru' 'Bloemfontein'\n",
            " 'Cape Town' 'Centurion' 'Chandigarh' 'Chennai' 'Cuttack' 'Delhi'\n",
            " 'Dharamsala' 'Dubai' 'Dubai International Cricket Stadium' 'Durban'\n",
            " 'East London' 'Hyderabad' 'Indore' 'Jaipur' 'Johannesburg' 'Kanpur'\n",
            " 'Kimberley' 'Kochi' 'Kolkata' 'Mumbai' 'Nagpur' 'Port Elizabeth' 'Pune'\n",
            " 'Raipur' 'Rajkot' 'Ranchi' 'Sharjah' 'Sharjah Cricket Stadium'\n",
            " 'Visakhapatnam']\n",
            "['bat' 'field']\n",
            "['Barabati Stadium' 'Brabourne Stadium' 'Buffalo Park'\n",
            " 'De Beers Diamond Oval' 'Dr DY Patil Sports Academy'\n",
            " 'Dr. Y.S. Rajasekhara Reddy ACA-VDCA Cricket Stadium'\n",
            " 'Dubai International Cricket Stadium' 'Eden Gardens' 'Feroz Shah Kotla'\n",
            " 'Green Park' 'Himachal Pradesh Cricket Association Stadium'\n",
            " 'Holkar Cricket Stadium' 'JSCA International Stadium Complex' 'Kingsmead'\n",
            " 'M Chinnaswamy Stadium' 'M.Chinnaswamy Stadium'\n",
            " 'MA Chidambaram Stadium, Chepauk'\n",
            " 'Maharashtra Cricket Association Stadium' 'Nehru Stadium'\n",
            " 'New Wanderers Stadium' 'Newlands' 'OUTsurance Oval'\n",
            " 'Punjab Cricket Association IS Bindra Stadium, Mohali'\n",
            " 'Punjab Cricket Association Stadium, Mohali'\n",
            " 'Rajiv Gandhi International Stadium, Uppal'\n",
            " 'Sardar Patel Stadium, Motera' 'Saurashtra Cricket Association Stadium'\n",
            " 'Sawai Mansingh Stadium'\n",
            " 'Shaheed Veer Narayan Singh International Stadium'\n",
            " 'Sharjah Cricket Stadium' 'Sheikh Zayed Stadium' \"St George's Park\"\n",
            " 'Subrata Roy Sahara Stadium' 'SuperSport Park'\n",
            " 'Vidarbha Cricket Association Stadium, Jamtha' 'Wankhede Stadium']\n"
          ]
        },
        {
          "output_type": "execute_result",
          "data": {
            "text/html": [
              "<div>\n",
              "<style scoped>\n",
              "    .dataframe tbody tr th:only-of-type {\n",
              "        vertical-align: middle;\n",
              "    }\n",
              "\n",
              "    .dataframe tbody tr th {\n",
              "        vertical-align: top;\n",
              "    }\n",
              "\n",
              "    .dataframe thead th {\n",
              "        text-align: right;\n",
              "    }\n",
              "</style>\n",
              "<table border=\"1\" class=\"dataframe\">\n",
              "  <thead>\n",
              "    <tr style=\"text-align: right;\">\n",
              "      <th></th>\n",
              "      <th>id</th>\n",
              "      <th>team1</th>\n",
              "      <th>team2</th>\n",
              "      <th>city</th>\n",
              "      <th>toss_decision</th>\n",
              "      <th>toss_winner</th>\n",
              "      <th>venue</th>\n",
              "      <th>winner</th>\n",
              "    </tr>\n",
              "  </thead>\n",
              "  <tbody>\n",
              "    <tr>\n",
              "      <th>0</th>\n",
              "      <td>335982</td>\n",
              "      <td>3</td>\n",
              "      <td>2</td>\n",
              "      <td>2</td>\n",
              "      <td>1</td>\n",
              "      <td>3</td>\n",
              "      <td>14</td>\n",
              "      <td>2</td>\n",
              "    </tr>\n",
              "    <tr>\n",
              "      <th>1</th>\n",
              "      <td>335983</td>\n",
              "      <td>9</td>\n",
              "      <td>5</td>\n",
              "      <td>7</td>\n",
              "      <td>0</td>\n",
              "      <td>5</td>\n",
              "      <td>23</td>\n",
              "      <td>5</td>\n",
              "    </tr>\n",
              "    <tr>\n",
              "      <th>2</th>\n",
              "      <td>335984</td>\n",
              "      <td>7</td>\n",
              "      <td>6</td>\n",
              "      <td>10</td>\n",
              "      <td>0</td>\n",
              "      <td>6</td>\n",
              "      <td>8</td>\n",
              "      <td>7</td>\n",
              "    </tr>\n",
              "    <tr>\n",
              "      <th>3</th>\n",
              "      <td>335985</td>\n",
              "      <td>1</td>\n",
              "      <td>3</td>\n",
              "      <td>24</td>\n",
              "      <td>0</td>\n",
              "      <td>1</td>\n",
              "      <td>35</td>\n",
              "      <td>3</td>\n",
              "    </tr>\n",
              "    <tr>\n",
              "      <th>4</th>\n",
              "      <td>335986</td>\n",
              "      <td>2</td>\n",
              "      <td>4</td>\n",
              "      <td>23</td>\n",
              "      <td>0</td>\n",
              "      <td>4</td>\n",
              "      <td>7</td>\n",
              "      <td>2</td>\n",
              "    </tr>\n",
              "    <tr>\n",
              "      <th>...</th>\n",
              "      <td>...</td>\n",
              "      <td>...</td>\n",
              "      <td>...</td>\n",
              "      <td>...</td>\n",
              "      <td>...</td>\n",
              "      <td>...</td>\n",
              "      <td>...</td>\n",
              "      <td>...</td>\n",
              "    </tr>\n",
              "    <tr>\n",
              "      <th>811</th>\n",
              "      <td>1216547</td>\n",
              "      <td>3</td>\n",
              "      <td>1</td>\n",
              "      <td>12</td>\n",
              "      <td>1</td>\n",
              "      <td>1</td>\n",
              "      <td>6</td>\n",
              "      <td>3</td>\n",
              "    </tr>\n",
              "    <tr>\n",
              "      <th>812</th>\n",
              "      <td>1237177</td>\n",
              "      <td>1</td>\n",
              "      <td>14</td>\n",
              "      <td>12</td>\n",
              "      <td>1</td>\n",
              "      <td>14</td>\n",
              "      <td>6</td>\n",
              "      <td>1</td>\n",
              "    </tr>\n",
              "    <tr>\n",
              "      <th>813</th>\n",
              "      <td>1237178</td>\n",
              "      <td>3</td>\n",
              "      <td>10</td>\n",
              "      <td>0</td>\n",
              "      <td>1</td>\n",
              "      <td>10</td>\n",
              "      <td>30</td>\n",
              "      <td>10</td>\n",
              "    </tr>\n",
              "    <tr>\n",
              "      <th>814</th>\n",
              "      <td>1237180</td>\n",
              "      <td>14</td>\n",
              "      <td>10</td>\n",
              "      <td>0</td>\n",
              "      <td>0</td>\n",
              "      <td>14</td>\n",
              "      <td>30</td>\n",
              "      <td>14</td>\n",
              "    </tr>\n",
              "    <tr>\n",
              "      <th>815</th>\n",
              "      <td>1237181</td>\n",
              "      <td>14</td>\n",
              "      <td>1</td>\n",
              "      <td>12</td>\n",
              "      <td>0</td>\n",
              "      <td>14</td>\n",
              "      <td>6</td>\n",
              "      <td>1</td>\n",
              "    </tr>\n",
              "  </tbody>\n",
              "</table>\n",
              "<p>812 rows × 8 columns</p>\n",
              "</div>"
            ],
            "text/plain": [
              "          id  team1  team2  city  toss_decision  toss_winner  venue  winner\n",
              "0     335982      3      2     2              1            3     14       2\n",
              "1     335983      9      5     7              0            5     23       5\n",
              "2     335984      7      6    10              0            6      8       7\n",
              "3     335985      1      3    24              0            1     35       3\n",
              "4     335986      2      4    23              0            4      7       2\n",
              "..       ...    ...    ...   ...            ...          ...    ...     ...\n",
              "811  1216547      3      1    12              1            1      6       3\n",
              "812  1237177      1     14    12              1           14      6       1\n",
              "813  1237178      3     10     0              1           10     30      10\n",
              "814  1237180     14     10     0              0           14     30      14\n",
              "815  1237181     14      1    12              0           14      6       1\n",
              "\n",
              "[812 rows x 8 columns]"
            ]
          },
          "metadata": {},
          "execution_count": 40
        }
      ]
    },
    {
      "cell_type": "code",
      "metadata": {
        "colab": {
          "base_uri": "https://localhost:8080/",
          "height": 351
        },
        "id": "jtvKPNTl2LDS",
        "outputId": "d624a328-c30f-40ec-b5c5-a28574b8a3c4"
      },
      "source": [
        "import seaborn as sns\n",
        "\n",
        "temp_df = delv_df.groupby('batsman')['batsman_runs'].agg('sum').reset_index().sort_values(by='batsman_runs', ascending=False).head(10).reset_index(drop=True)\n",
        "sns.barplot(x=temp_df['batsman'],y=temp_df['batsman_runs'],data=temp_df)\n",
        "\n",
        "plt.title(\"Top 10 Scorer\")\n",
        "plt.xticks(rotation=90)\n",
        "plt.xlabel(\"Batsman\")\n",
        "plt.ylabel(\"Runs\")\n",
        "plt.show()"
      ],
      "id": "jtvKPNTl2LDS",
      "execution_count": null,
      "outputs": [
        {
          "output_type": "display_data",
          "data": {
            "image/png": "[encoded data removed]",
            "text/plain": [
              "<Figure size 432x288 with 1 Axes>"
            ]
          },
          "metadata": {
            "needs_background": "light"
          }
        }
      ]
    },
    {
      "cell_type": "code",
      "metadata": {
        "colab": {
          "base_uri": "https://localhost:8080/",
          "height": 369
        },
        "id": "dEuUIMUm2TH-",
        "outputId": "b7e62f45-2792-4822-8b9d-16998912a987"
      },
      "source": [
        "temp_df = delv_df.groupby('bowler')['is_wicket'].agg('sum').reset_index().sort_values(by='is_wicket', ascending=False).reset_index(drop=True).head(10)\n",
        "sns.barplot(x=temp_df['bowler'],y=temp_df['is_wicket'],data=temp_df)\n",
        "\n",
        "plt.title(\"Most wickets by a bowler\")\n",
        "plt.xticks(rotation=90)\n",
        "plt.xlabel(\"Bowler\")\n",
        "plt.ylabel(\"Number of wickets\")\n",
        "plt.show()"
      ],
      "id": "dEuUIMUm2TH-",
      "execution_count": null,
      "outputs": [
        {
          "output_type": "display_data",
          "data": {
            "image/png": "[encoded data removed]",
            "text/plain": [
              "<Figure size 432x288 with 1 Axes>"
            ]
          },
          "metadata": {
            "needs_background": "light"
          }
        }
      ]
    },
    {
      "cell_type": "code",
      "metadata": {
        "colab": {
          "base_uri": "https://localhost:8080/",
          "height": 373
        },
        "id": "rJAa7oQk2VC2",
        "outputId": "7eeb4c8c-c253-4df4-b8d9-8315ded75543"
      },
      "source": [
        "from collections import Counter\n",
        "\n",
        "topic_count = Counter(match_df['winner'])\n",
        "numbers = [i for w,i in topic_count.items()]\n",
        "explode = [0.1 for i in range(len(numbers))]\n",
        "topics = [w for w,i in topic_count.items()]\n",
        "\n",
        "\n",
        "fig,axs = plt.subplots(figsize=(12,6))\n",
        "wedges, texts = axs.pie(x = numbers,explode=explode, labels = teams_list)\n",
        "axs.legend(wedges, topics,loc=\"center left\",bbox_to_anchor=(2, 0, 0.5, 1))\n",
        "axs.set_title('Winners Distribution',bbox={'facecolor':'0.8'})\n",
        "plt.show()"
      ],
      "id": "rJAa7oQk2VC2",
      "execution_count": null,
      "outputs": [
        {
          "output_type": "display_data",
          "data": {
            "image/png": "[encoded data removed]",
            "text/plain": [
              "<Figure size 864x432 with 1 Axes>"
            ]
          },
          "metadata": {}
        }
      ]
    },
    {
      "cell_type": "code",
      "metadata": {
        "colab": {
          "base_uri": "https://localhost:8080/",
          "height": 574
        },
        "id": "YuQIDYwN2nPW",
        "outputId": "9c038c6c-5eea-4b37-f9c7-73c31da6a3e2"
      },
      "source": [
        "topic_count = Counter(match_df['venue'])\n",
        "numbers = [i for w,i in topic_count.items()]\n",
        "explode = [0.1 for i in range(len(numbers))]\n",
        "topics = [w for w,i in topic_count.items()]\n",
        "\n",
        "\n",
        "fig,axs = plt.subplots(figsize=(18,9))\n",
        "wedges, texts = axs.pie(x = numbers,explode=explode)\n",
        "axs.legend(wedges, topics,loc=\"center left\",bbox_to_anchor=(2, 0, 0.5, 1))\n",
        "axs.set_title('Venues Distribution',bbox={'facecolor':'0.8'})\n",
        "plt.show()"
      ],
      "id": "YuQIDYwN2nPW",
      "execution_count": null,
      "outputs": [
        {
          "output_type": "display_data",
          "data": {
            "image/png": "[encoded data removed]",
            "text/plain": [
              "<Figure size 1296x648 with 1 Axes>"
            ]
          },
          "metadata": {}
        }
      ]
    },
    {
      "cell_type": "code",
      "metadata": {
        "colab": {
          "base_uri": "https://localhost:8080/",
          "height": 536
        },
        "id": "VZIjELtz2z96",
        "outputId": "ef98c011-cda5-4121-87e8-ab9e05349d78"
      },
      "source": [
        "match_df['que'] = np.where(match_df['winner'] == match_df['toss_winner'], True, False)\n",
        "\n",
        "topic_count = Counter(match_df['winner'][match_df['que'] == True])\n",
        "numbers = [i for w,i in topic_count.items()]\n",
        "explode = [0.1 for i in range(len(numbers))]\n",
        "topics = [w for w,i in topic_count.items()]\n",
        "\n",
        "fig,axs = plt.subplots(figsize=(18,9))\n",
        "wedges, texts = axs.pie(x = numbers, labels = teams_list)\n",
        "axs.legend(wedges, topics,loc=\"center left\",bbox_to_anchor=(2, 0, 0.5, 1))\n",
        "axs.set_title('Team winning after winning the toss distribution',bbox={'facecolor':'0.8'})\n",
        "plt.show()"
      ],
      "id": "VZIjELtz2z96",
      "execution_count": null,
      "outputs": [
        {
          "output_type": "display_data",
          "data": {
            "image/png": "[encoded data removed]",
            "text/plain": [
              "<Figure size 1296x648 with 1 Axes>"
            ]
          },
          "metadata": {}
        }
      ]
    },
    {
      "cell_type": "code",
      "metadata": {
        "colab": {
          "base_uri": "https://localhost:8080/",
          "height": 927
        },
        "id": "Wlv9ipa03Inc",
        "outputId": "af2fa0ac-af7b-44bb-8156-216d07798d43"
      },
      "source": [
        "teams=match_df['toss_winner'].unique()\n",
        "decision_making=pd.DataFrame([],columns=['Toss Winner','Decision','Wins'])\n",
        "\n",
        "for id,element in enumerate(teams):\n",
        "    temp_bat=match_df[(match_df['toss_winner']==element) & (match_df['toss_decision']=='bat')]\n",
        "    temp_field=match_df[(match_df['toss_winner']==element) & (match_df['toss_decision']=='field')]\n",
        "    \n",
        "    decision_making=decision_making.append({'Toss Winner':element,'Decision':'bat','Wins':temp_bat['toss_winner'].count()},ignore_index=True)\n",
        "    decision_making=decision_making.append({'Toss Winner':element,'Decision':'field','Wins':temp_field['toss_winner'].count()},ignore_index=True)\n",
        "\n",
        "decision_making.head(100)"
      ],
      "id": "Wlv9ipa03Inc",
      "execution_count": null,
      "outputs": [
        {
          "output_type": "execute_result",
          "data": {
            "text/html": [
              "<div>\n",
              "<style scoped>\n",
              "    .dataframe tbody tr th:only-of-type {\n",
              "        vertical-align: middle;\n",
              "    }\n",
              "\n",
              "    .dataframe tbody tr th {\n",
              "        vertical-align: top;\n",
              "    }\n",
              "\n",
              "    .dataframe thead th {\n",
              "        text-align: right;\n",
              "    }\n",
              "</style>\n",
              "<table border=\"1\" class=\"dataframe\">\n",
              "  <thead>\n",
              "    <tr style=\"text-align: right;\">\n",
              "      <th></th>\n",
              "      <th>Toss Winner</th>\n",
              "      <th>Decision</th>\n",
              "      <th>Wins</th>\n",
              "    </tr>\n",
              "  </thead>\n",
              "  <tbody>\n",
              "    <tr>\n",
              "      <th>0</th>\n",
              "      <td>3</td>\n",
              "      <td>bat</td>\n",
              "      <td>0</td>\n",
              "    </tr>\n",
              "    <tr>\n",
              "      <th>1</th>\n",
              "      <td>3</td>\n",
              "      <td>field</td>\n",
              "      <td>0</td>\n",
              "    </tr>\n",
              "    <tr>\n",
              "      <th>2</th>\n",
              "      <td>5</td>\n",
              "      <td>bat</td>\n",
              "      <td>0</td>\n",
              "    </tr>\n",
              "    <tr>\n",
              "      <th>3</th>\n",
              "      <td>5</td>\n",
              "      <td>field</td>\n",
              "      <td>0</td>\n",
              "    </tr>\n",
              "    <tr>\n",
              "      <th>4</th>\n",
              "      <td>6</td>\n",
              "      <td>bat</td>\n",
              "      <td>0</td>\n",
              "    </tr>\n",
              "    <tr>\n",
              "      <th>5</th>\n",
              "      <td>6</td>\n",
              "      <td>field</td>\n",
              "      <td>0</td>\n",
              "    </tr>\n",
              "    <tr>\n",
              "      <th>6</th>\n",
              "      <td>1</td>\n",
              "      <td>bat</td>\n",
              "      <td>0</td>\n",
              "    </tr>\n",
              "    <tr>\n",
              "      <th>7</th>\n",
              "      <td>1</td>\n",
              "      <td>field</td>\n",
              "      <td>0</td>\n",
              "    </tr>\n",
              "    <tr>\n",
              "      <th>8</th>\n",
              "      <td>4</td>\n",
              "      <td>bat</td>\n",
              "      <td>0</td>\n",
              "    </tr>\n",
              "    <tr>\n",
              "      <th>9</th>\n",
              "      <td>4</td>\n",
              "      <td>field</td>\n",
              "      <td>0</td>\n",
              "    </tr>\n",
              "    <tr>\n",
              "      <th>10</th>\n",
              "      <td>9</td>\n",
              "      <td>bat</td>\n",
              "      <td>0</td>\n",
              "    </tr>\n",
              "    <tr>\n",
              "      <th>11</th>\n",
              "      <td>9</td>\n",
              "      <td>field</td>\n",
              "      <td>0</td>\n",
              "    </tr>\n",
              "    <tr>\n",
              "      <th>12</th>\n",
              "      <td>2</td>\n",
              "      <td>bat</td>\n",
              "      <td>0</td>\n",
              "    </tr>\n",
              "    <tr>\n",
              "      <th>13</th>\n",
              "      <td>2</td>\n",
              "      <td>field</td>\n",
              "      <td>0</td>\n",
              "    </tr>\n",
              "    <tr>\n",
              "      <th>14</th>\n",
              "      <td>7</td>\n",
              "      <td>bat</td>\n",
              "      <td>0</td>\n",
              "    </tr>\n",
              "    <tr>\n",
              "      <th>15</th>\n",
              "      <td>7</td>\n",
              "      <td>field</td>\n",
              "      <td>0</td>\n",
              "    </tr>\n",
              "    <tr>\n",
              "      <th>16</th>\n",
              "      <td>12</td>\n",
              "      <td>bat</td>\n",
              "      <td>0</td>\n",
              "    </tr>\n",
              "    <tr>\n",
              "      <th>17</th>\n",
              "      <td>12</td>\n",
              "      <td>field</td>\n",
              "      <td>0</td>\n",
              "    </tr>\n",
              "    <tr>\n",
              "      <th>18</th>\n",
              "      <td>13</td>\n",
              "      <td>bat</td>\n",
              "      <td>0</td>\n",
              "    </tr>\n",
              "    <tr>\n",
              "      <th>19</th>\n",
              "      <td>13</td>\n",
              "      <td>field</td>\n",
              "      <td>0</td>\n",
              "    </tr>\n",
              "    <tr>\n",
              "      <th>20</th>\n",
              "      <td>10</td>\n",
              "      <td>bat</td>\n",
              "      <td>0</td>\n",
              "    </tr>\n",
              "    <tr>\n",
              "      <th>21</th>\n",
              "      <td>10</td>\n",
              "      <td>field</td>\n",
              "      <td>0</td>\n",
              "    </tr>\n",
              "    <tr>\n",
              "      <th>22</th>\n",
              "      <td>8</td>\n",
              "      <td>bat</td>\n",
              "      <td>0</td>\n",
              "    </tr>\n",
              "    <tr>\n",
              "      <th>23</th>\n",
              "      <td>8</td>\n",
              "      <td>field</td>\n",
              "      <td>0</td>\n",
              "    </tr>\n",
              "    <tr>\n",
              "      <th>24</th>\n",
              "      <td>11</td>\n",
              "      <td>bat</td>\n",
              "      <td>0</td>\n",
              "    </tr>\n",
              "    <tr>\n",
              "      <th>25</th>\n",
              "      <td>11</td>\n",
              "      <td>field</td>\n",
              "      <td>0</td>\n",
              "    </tr>\n",
              "    <tr>\n",
              "      <th>26</th>\n",
              "      <td>14</td>\n",
              "      <td>bat</td>\n",
              "      <td>0</td>\n",
              "    </tr>\n",
              "    <tr>\n",
              "      <th>27</th>\n",
              "      <td>14</td>\n",
              "      <td>field</td>\n",
              "      <td>0</td>\n",
              "    </tr>\n",
              "  </tbody>\n",
              "</table>\n",
              "</div>"
            ],
            "text/plain": [
              "   Toss Winner Decision Wins\n",
              "0            3      bat    0\n",
              "1            3    field    0\n",
              "2            5      bat    0\n",
              "3            5    field    0\n",
              "4            6      bat    0\n",
              "5            6    field    0\n",
              "6            1      bat    0\n",
              "7            1    field    0\n",
              "8            4      bat    0\n",
              "9            4    field    0\n",
              "10           9      bat    0\n",
              "11           9    field    0\n",
              "12           2      bat    0\n",
              "13           2    field    0\n",
              "14           7      bat    0\n",
              "15           7    field    0\n",
              "16          12      bat    0\n",
              "17          12    field    0\n",
              "18          13      bat    0\n",
              "19          13    field    0\n",
              "20          10      bat    0\n",
              "21          10    field    0\n",
              "22           8      bat    0\n",
              "23           8    field    0\n",
              "24          11      bat    0\n",
              "25          11    field    0\n",
              "26          14      bat    0\n",
              "27          14    field    0"
            ]
          },
          "metadata": {},
          "execution_count": 46
        }
      ]
    },
    {
      "cell_type": "markdown",
      "metadata": {
        "id": "UuWxmkbpQMzD"
      },
      "source": [
        "**Machine Learning**"
      ],
      "id": "UuWxmkbpQMzD"
    },
    {
      "cell_type": "code",
      "metadata": {
        "colab": {
          "base_uri": "https://localhost:8080/"
        },
        "id": "ZGYwG--6Px23",
        "outputId": "0b2b2929-d1ad-47f1-f0b6-7de3478f0eed"
      },
      "source": [
        "from sklearn.model_selection import train_test_split\n",
        "\n",
        "train_df, test_df =train_test_split(match_df,test_size=0.2,random_state=5)\n",
        "print(train_df.shape)\n",
        "print(test_df.shape)"
      ],
      "id": "ZGYwG--6Px23",
      "execution_count": null,
      "outputs": [
        {
          "output_type": "stream",
          "name": "stdout",
          "text": [
            "(649, 9)\n",
            "(163, 9)\n"
          ]
        }
      ]
    },
    {
      "cell_type": "markdown",
      "metadata": {
        "id": "TPQanihevDlf"
      },
      "source": [
        "**Importing Libraries for ML**"
      ],
      "id": "TPQanihevDlf"
    },
    {
      "cell_type": "code",
      "metadata": {
        "id": "GGqZ3nuAQiKc"
      },
      "source": [
        "from sklearn.linear_model import LogisticRegression\n",
        "from sklearn.ensemble import RandomForestClassifier\n",
        "from sklearn.naive_bayes import GaussianNB\n",
        "from sklearn import svm\n",
        "from sklearn.neighbors import KNeighborsClassifier\n",
        "from sklearn.neural_network import MLPClassifier\n",
        "from sklearn.metrics import accuracy_score\n",
        "from sklearn.metrics import classification_report\n",
        "from sklearn.model_selection import cross_val_score\n",
        "from sklearn import metrics"
      ],
      "id": "GGqZ3nuAQiKc",
      "execution_count": null,
      "outputs": []
    },
    {
      "cell_type": "markdown",
      "metadata": {
        "id": "ntKW5Vg_vJJj"
      },
      "source": [
        "**Function for model evaluation**"
      ],
      "id": "ntKW5Vg_vJJj"
    },
    {
      "cell_type": "code",
      "metadata": {
        "id": "9h5N5BfDvByh"
      },
      "source": [
        "def print_model_scores(model,data,predictor,target, teams_list):\n",
        "  model.fit(data[predictor],data[target])\n",
        "  predictions=model.predict(data[predictor])\n",
        "  accuracy=accuracy_score(predictions,data[target])\n",
        "  print(\"Accuracy : %s\" %\"{0:.2%}\".format(accuracy))\n",
        "  scores=cross_val_score(model,data[predictor],data[target],scoring=\"neg_mean_squared_error\",cv=5)\n",
        "  print(\"Cross-Validation Scores : {}\".format(np.sqrt(-scores)))\n",
        "  print(f\"Average RMSE : {np.sqrt(-scores).mean()}\")\n",
        "  print(classification_report(data[target],predictions, target_names=teams_list))\n",
        "  print(\"Confusion Matrix:\")\n",
        "  cm = metrics.confusion_matrix(data[target], predictions)\n",
        "  print(cm)"
      ],
      "id": "9h5N5BfDvByh",
      "execution_count": null,
      "outputs": []
    },
    {
      "cell_type": "markdown",
      "metadata": {
        "id": "-TFYzusbvQok"
      },
      "source": [
        "**Logistic Regression**"
      ],
      "id": "-TFYzusbvQok"
    },
    {
      "cell_type": "code",
      "metadata": {
        "colab": {
          "base_uri": "https://localhost:8080/"
        },
        "id": "-3T0QyaISXmY",
        "outputId": "a6736f9d-2871-4811-f9cc-7995449979fe"
      },
      "source": [
        "target_var=['winner']\n",
        "predictor_var=['team1','team2','venue','toss_winner','city','toss_decision']\n",
        "model=LogisticRegression()\n",
        "\n",
        "print_model_scores(model,train_df,predictor_var,target_var, teams_list)"
      ],
      "id": "-3T0QyaISXmY",
      "execution_count": null,
      "outputs": [
        {
          "output_type": "stream",
          "name": "stdout",
          "text": [
            "Accuracy : 28.35%\n",
            "Cross-Validation Scores : [3.0407489  3.48954482 3.16713897 3.66060104 3.36765278]\n",
            "Average RMSE : 3.3451373025382987\n",
            "                             precision    recall  f1-score   support\n",
            "\n",
            "             Mumbai Indians       0.32      0.39      0.35        87\n",
            "      Kolkata Knight Riders       0.31      0.38      0.34        80\n",
            "Royal Challengers Bangalore       0.27      0.32      0.30        71\n",
            "            Deccan Chargers       0.00      0.00      0.00        25\n",
            "        Chennai Super Kings       0.28      0.34      0.31        90\n",
            "           Rajasthan Royals       0.26      0.28      0.27        69\n",
            "           Delhi Daredevils       0.00      0.00      0.00        58\n",
            "              Gujarat Lions       0.00      0.00      0.00        10\n",
            "            Kings XI Punjab       0.29      0.43      0.35        67\n",
            "        Sunrisers Hyderabad       0.25      0.29      0.27        55\n",
            "    Rising Pune Supergiants       0.00      0.00      0.00         9\n",
            "       Kochi Tuskers Kerala       0.00      0.00      0.00         6\n",
            "              Pune Warriors       0.00      0.00      0.00         8\n",
            "             Delhi Capitals       0.40      0.14      0.21        14\n",
            "\n",
            "                   accuracy                           0.28       649\n",
            "                  macro avg       0.17      0.18      0.17       649\n",
            "               weighted avg       0.24      0.28      0.26       649\n",
            "\n",
            "Confusion Matrix:\n",
            "[[34 15 14  0  5 13  2  0  1  1  0  0  0  2]\n",
            " [12 30  8  0 14  8  1  0  4  2  0  0  1  0]\n",
            " [11 10 23  0 15  5  0  0  6  1  0  0  0  0]\n",
            " [ 9  0  3  0  8  0  0  0  1  3  0  0  1  0]\n",
            " [ 9 12 16  0 31  8  0  0  9  4  0  0  0  1]\n",
            " [17  6  5  0  7 19  1  0 11  3  0  0  0  0]\n",
            " [ 5 10  7  0 17  4  0  0  8  7  0  0  0  0]\n",
            " [ 2  3  1  0  0  0  0  0  2  2  0  0  0  0]\n",
            " [ 4  5  6  0  6 10  1  0 29  6  0  0  0  0]\n",
            " [ 3  4  1  0  6  5  2  0 18 16  0  0  0  0]\n",
            " [ 0  1  0  0  0  1  0  0  4  3  0  0  0  0]\n",
            " [ 0  1  0  0  0  1  1  0  1  2  0  0  0  0]\n",
            " [ 0  0  0  0  1  0  0  0  2  5  0  0  0  0]\n",
            " [ 0  0  0  0  0  0  0  1  3  8  0  0  0  2]]\n"
          ]
        }
      ]
    },
    {
      "cell_type": "markdown",
      "metadata": {
        "id": "lHt4BPhavgwU"
      },
      "source": [
        "**Linear SVM**"
      ],
      "id": "lHt4BPhavgwU"
    },
    {
      "cell_type": "code",
      "metadata": {
        "colab": {
          "base_uri": "https://localhost:8080/"
        },
        "id": "mMEbnb6xeHcK",
        "outputId": "e9481576-4b6f-4e3a-fabe-ce7023e6a315"
      },
      "source": [
        "model = svm.SVC()\n",
        "print_model_scores(model,train_df,predictor_var,target_var, teams_list)"
      ],
      "id": "mMEbnb6xeHcK",
      "execution_count": null,
      "outputs": [
        {
          "output_type": "stream",
          "name": "stdout",
          "text": [
            "Accuracy : 40.99%\n",
            "Cross-Validation Scores : [3.38889589 3.7652255  3.50384404 3.71690525 4.03184994]\n",
            "Average RMSE : 3.6813441255710764\n",
            "                             precision    recall  f1-score   support\n",
            "\n",
            "             Mumbai Indians       0.38      0.52      0.44        87\n",
            "      Kolkata Knight Riders       0.39      0.51      0.44        80\n",
            "Royal Challengers Bangalore       0.44      0.41      0.42        71\n",
            "            Deccan Chargers       0.00      0.00      0.00        25\n",
            "        Chennai Super Kings       0.51      0.41      0.45        90\n",
            "           Rajasthan Royals       0.38      0.58      0.46        69\n",
            "           Delhi Daredevils       0.31      0.47      0.37        58\n",
            "              Gujarat Lions       0.00      0.00      0.00        10\n",
            "            Kings XI Punjab       0.52      0.34      0.41        67\n",
            "        Sunrisers Hyderabad       0.44      0.40      0.42        55\n",
            "    Rising Pune Supergiants       0.00      0.00      0.00         9\n",
            "       Kochi Tuskers Kerala       0.00      0.00      0.00         6\n",
            "              Pune Warriors       0.00      0.00      0.00         8\n",
            "             Delhi Capitals       1.00      0.14      0.25        14\n",
            "\n",
            "                   accuracy                           0.41       649\n",
            "                  macro avg       0.31      0.27      0.26       649\n",
            "               weighted avg       0.40      0.41      0.39       649\n",
            "\n",
            "Confusion Matrix:\n",
            "[[45 18  7  0  4 10  2  0  1  0  0  0  0  0]\n",
            " [ 6 41  6  0  1 11  9  0  3  3  0  0  0  0]\n",
            " [ 9  6 29  0  7  7  8  0  3  2  0  0  0  0]\n",
            " [ 4  2  1  0  7  5  5  0  0  1  0  0  0  0]\n",
            " [12 13  5  0 37  8 11  0  2  2  0  0  0  0]\n",
            " [ 8  6  4  0  3 40  4  0  3  1  0  0  0  0]\n",
            " [ 5  2  3  0  8  8 27  0  3  2  0  0  0  0]\n",
            " [ 1  4  1  0  1  0  1  0  1  1  0  0  0  0]\n",
            " [12  3  5  0  3  7 10  0 23  4  0  0  0  0]\n",
            " [ 7  5  3  0  1  5  8  0  4 22  0  0  0  0]\n",
            " [ 1  2  1  0  0  0  0  0  0  5  0  0  0  0]\n",
            " [ 1  2  0  0  0  0  0  0  0  3  0  0  0  0]\n",
            " [ 3  0  0  0  1  1  1  0  1  1  0  0  0  0]\n",
            " [ 3  1  1  0  0  2  2  0  0  3  0  0  0  2]]\n"
          ]
        }
      ]
    },
    {
      "cell_type": "markdown",
      "metadata": {
        "id": "7rBsxcKmvpPP"
      },
      "source": [
        "**K Nearest Neighbours**"
      ],
      "id": "7rBsxcKmvpPP"
    },
    {
      "cell_type": "code",
      "metadata": {
        "colab": {
          "base_uri": "https://localhost:8080/"
        },
        "id": "lhlOmgeXfQMS",
        "outputId": "df1c7135-885c-47c1-e595-70536da21fdd"
      },
      "source": [
        "model = KNeighborsClassifier(n_neighbors=3)\n",
        "print_model_scores(model,train_df,predictor_var,target_var, teams_list)"
      ],
      "id": "lhlOmgeXfQMS",
      "execution_count": null,
      "outputs": [
        {
          "output_type": "stream",
          "name": "stdout",
          "text": [
            "Accuracy : 61.94%\n",
            "Cross-Validation Scores : [3.27695919 3.98072278 3.14153319 3.56478503 3.63019208]\n",
            "Average RMSE : 3.518838454498249\n",
            "                             precision    recall  f1-score   support\n",
            "\n",
            "             Mumbai Indians       0.63      0.91      0.75        87\n",
            "      Kolkata Knight Riders       0.58      0.74      0.65        80\n",
            "Royal Challengers Bangalore       0.54      0.51      0.52        71\n",
            "            Deccan Chargers       0.54      0.56      0.55        25\n",
            "        Chennai Super Kings       0.67      0.66      0.66        90\n",
            "           Rajasthan Royals       0.69      0.64      0.66        69\n",
            "           Delhi Daredevils       0.54      0.43      0.48        58\n",
            "              Gujarat Lions       0.75      0.30      0.43        10\n",
            "            Kings XI Punjab       0.62      0.57      0.59        67\n",
            "        Sunrisers Hyderabad       0.71      0.62      0.66        55\n",
            "    Rising Pune Supergiants       0.57      0.44      0.50         9\n",
            "       Kochi Tuskers Kerala       0.00      0.00      0.00         6\n",
            "              Pune Warriors       0.50      0.25      0.33         8\n",
            "             Delhi Capitals       0.71      0.36      0.48        14\n",
            "\n",
            "                   accuracy                           0.62       649\n",
            "                  macro avg       0.58      0.50      0.52       649\n",
            "               weighted avg       0.62      0.62      0.61       649\n",
            "\n",
            "Confusion Matrix:\n",
            "[[79  2  0  1  0  1  1  0  2  0  0  0  0  1]\n",
            " [12 59  2  1  1  1  1  0  3  0  0  0  0  0]\n",
            " [ 8 10 36  3  4  3  2  0  4  1  0  0  0  0]\n",
            " [ 1  4  5 14  0  0  0  0  1  0  0  0  0  0]\n",
            " [10  3  6  1 59  1  6  0  2  1  0  0  1  0]\n",
            " [ 1  3  5  2  9 44  1  0  3  1  0  0  0  0]\n",
            " [ 4  3  5  4  4  6 25  0  4  3  0  0  0  0]\n",
            " [ 1  2  1  0  0  0  2  3  1  0  0  0  0  0]\n",
            " [ 3  8  2  0  6  2  4  0 38  4  0  0  0  0]\n",
            " [ 4  2  1  0  4  3  2  1  2 34  1  0  0  1]\n",
            " [ 1  1  1  0  0  1  0  0  0  1  4  0  0  0]\n",
            " [ 1  2  1  0  0  1  0  0  0  1  0  0  0  0]\n",
            " [ 0  0  1  0  1  1  1  0  1  0  1  0  2  0]\n",
            " [ 0  3  1  0  0  0  1  0  0  2  1  0  1  5]]\n"
          ]
        }
      ]
    },
    {
      "cell_type": "markdown",
      "metadata": {
        "id": "pf1IUCUZvuHA"
      },
      "source": [
        "**Random Forest Classifier**"
      ],
      "id": "pf1IUCUZvuHA"
    },
    {
      "cell_type": "code",
      "metadata": {
        "colab": {
          "base_uri": "https://localhost:8080/"
        },
        "id": "MwAPF5FYSx6-",
        "outputId": "33419383-2512-41f9-a54f-ef264564584e"
      },
      "source": [
        "model=RandomForestClassifier(n_estimators=100)\n",
        "print_model_scores(model,train_df,predictor_var,target_var, teams_list)"
      ],
      "id": "MwAPF5FYSx6-",
      "execution_count": null,
      "outputs": [
        {
          "output_type": "stream",
          "name": "stdout",
          "text": [
            "Accuracy : 89.98%\n",
            "Cross-Validation Scores : [3.19494794 3.36954688 3.22251693 3.31546493 3.59154908]\n",
            "Average RMSE : 3.3388051510172554\n",
            "                             precision    recall  f1-score   support\n",
            "\n",
            "             Mumbai Indians       0.90      0.92      0.91        87\n",
            "      Kolkata Knight Riders       0.90      0.88      0.89        80\n",
            "Royal Challengers Bangalore       0.82      0.85      0.83        71\n",
            "            Deccan Chargers       0.93      1.00      0.96        25\n",
            "        Chennai Super Kings       0.90      0.94      0.92        90\n",
            "           Rajasthan Royals       0.89      0.94      0.92        69\n",
            "           Delhi Daredevils       0.90      0.78      0.83        58\n",
            "              Gujarat Lions       1.00      0.80      0.89        10\n",
            "            Kings XI Punjab       0.87      0.93      0.90        67\n",
            "        Sunrisers Hyderabad       0.96      0.89      0.92        55\n",
            "    Rising Pune Supergiants       1.00      0.89      0.94         9\n",
            "       Kochi Tuskers Kerala       1.00      1.00      1.00         6\n",
            "              Pune Warriors       1.00      0.88      0.93         8\n",
            "             Delhi Capitals       1.00      1.00      1.00        14\n",
            "\n",
            "                   accuracy                           0.90       649\n",
            "                  macro avg       0.93      0.91      0.92       649\n",
            "               weighted avg       0.90      0.90      0.90       649\n",
            "\n",
            "Confusion Matrix:\n",
            "[[80  0  0  0  2  1  1  0  3  0  0  0  0  0]\n",
            " [ 3 70  3  0  0  3  1  0  0  0  0  0  0  0]\n",
            " [ 2  1 60  1  2  2  0  0  3  0  0  0  0  0]\n",
            " [ 0  0  0 25  0  0  0  0  0  0  0  0  0  0]\n",
            " [ 1  1  2  0 85  1  0  0  0  0  0  0  0  0]\n",
            " [ 0  0  0  0  1 65  2  0  0  1  0  0  0  0]\n",
            " [ 1  1  4  1  3  1 45  0  2  0  0  0  0  0]\n",
            " [ 0  0  1  0  0  0  1  8  0  0  0  0  0  0]\n",
            " [ 0  4  0  0  0  0  0  0 62  1  0  0  0  0]\n",
            " [ 2  1  2  0  0  0  0  0  1 49  0  0  0  0]\n",
            " [ 0  0  1  0  0  0  0  0  0  0  8  0  0  0]\n",
            " [ 0  0  0  0  0  0  0  0  0  0  0  6  0  0]\n",
            " [ 0  0  0  0  1  0  0  0  0  0  0  0  7  0]\n",
            " [ 0  0  0  0  0  0  0  0  0  0  0  0  0 14]]\n"
          ]
        }
      ]
    },
    {
      "cell_type": "markdown",
      "metadata": {
        "id": "v6QJnBEFv0oa"
      },
      "source": [
        "**Declaring feature set and predicting the output based on Random Forest Classifier**"
      ],
      "id": "v6QJnBEFv0oa"
    },
    {
      "cell_type": "code",
      "metadata": {
        "colab": {
          "base_uri": "https://localhost:8080/"
        },
        "id": "nXfAv07MUfw_",
        "outputId": "6b9dbbad-3b2e-409c-cfb2-91df735dd6a4"
      },
      "source": [
        "team1=\"Mumbai Indians\"\n",
        "team2=\"Sunrisers Hyderabad\"\n",
        "toss_winner=\"Mumbai Indians\"\n",
        "inp=[team_encode_dict['team1'][team1],team_encode_dict['team2'][team2],'14',team_encode_dict['toss_winner'][toss_winner],'2','1'] #['team1','team2','venue','toss_winner','city','toss_decision']\n",
        "print(inp)\n",
        "inp=np.array(inp).reshape((1,-1))\n",
        "print(inp)\n",
        "output=model.predict(inp)\n",
        "print(output)\n",
        "print(f\"The Winner would be : {list(team_encodings.keys())[list(team_encode_dict['team1'].values()).index(output)]}\")"
      ],
      "id": "nXfAv07MUfw_",
      "execution_count": null,
      "outputs": [
        {
          "output_type": "stream",
          "name": "stdout",
          "text": [
            "[1, 10, '14', 1, '2', '1']\n",
            "[['1' '10' '14' '1' '2' '1']]\n",
            "[1]\n",
            "The Winner would be : Mumbai Indians\n"
          ]
        }
      ]
    },
    {
      "cell_type": "markdown",
      "metadata": {
        "id": "momIRE9vwXQm"
      },
      "source": [
        "**More Data Analysis and Heat Map**"
      ],
      "id": "momIRE9vwXQm"
    },
    {
      "cell_type": "code",
      "metadata": {
        "colab": {
          "base_uri": "https://localhost:8080/"
        },
        "id": "jVcDi_sPVfsM",
        "outputId": "bf2ff54d-07a9-463e-b042-c031b17de597"
      },
      "source": [
        "pd.Series(index=predictor_var ,data=model.feature_importances_)"
      ],
      "id": "jVcDi_sPVfsM",
      "execution_count": null,
      "outputs": [
        {
          "output_type": "execute_result",
          "data": {
            "text/plain": [
              "team1            0.201810\n",
              "team2            0.261950\n",
              "venue            0.144799\n",
              "toss_winner      0.189298\n",
              "city             0.134183\n",
              "toss_decision    0.067961\n",
              "dtype: float64"
            ]
          },
          "metadata": {},
          "execution_count": 55
        }
      ]
    },
    {
      "cell_type": "code",
      "metadata": {
        "colab": {
          "base_uri": "https://localhost:8080/",
          "height": 423
        },
        "id": "W145C34lY_z-",
        "outputId": "bc44322f-9f66-426f-8737-c31efcb9167f"
      },
      "source": [
        "match_df[match_df['winner']==match_df['toss_winner']]"
      ],
      "id": "W145C34lY_z-",
      "execution_count": null,
      "outputs": [
        {
          "output_type": "execute_result",
          "data": {
            "text/html": [
              "<div>\n",
              "<style scoped>\n",
              "    .dataframe tbody tr th:only-of-type {\n",
              "        vertical-align: middle;\n",
              "    }\n",
              "\n",
              "    .dataframe tbody tr th {\n",
              "        vertical-align: top;\n",
              "    }\n",
              "\n",
              "    .dataframe thead th {\n",
              "        text-align: right;\n",
              "    }\n",
              "</style>\n",
              "<table border=\"1\" class=\"dataframe\">\n",
              "  <thead>\n",
              "    <tr style=\"text-align: right;\">\n",
              "      <th></th>\n",
              "      <th>id</th>\n",
              "      <th>team1</th>\n",
              "      <th>team2</th>\n",
              "      <th>city</th>\n",
              "      <th>toss_decision</th>\n",
              "      <th>toss_winner</th>\n",
              "      <th>venue</th>\n",
              "      <th>winner</th>\n",
              "      <th>que</th>\n",
              "    </tr>\n",
              "  </thead>\n",
              "  <tbody>\n",
              "    <tr>\n",
              "      <th>1</th>\n",
              "      <td>335983</td>\n",
              "      <td>9</td>\n",
              "      <td>5</td>\n",
              "      <td>7</td>\n",
              "      <td>0</td>\n",
              "      <td>5</td>\n",
              "      <td>23</td>\n",
              "      <td>5</td>\n",
              "      <td>True</td>\n",
              "    </tr>\n",
              "    <tr>\n",
              "      <th>8</th>\n",
              "      <td>335990</td>\n",
              "      <td>4</td>\n",
              "      <td>6</td>\n",
              "      <td>16</td>\n",
              "      <td>1</td>\n",
              "      <td>6</td>\n",
              "      <td>24</td>\n",
              "      <td>6</td>\n",
              "      <td>True</td>\n",
              "    </tr>\n",
              "    <tr>\n",
              "      <th>10</th>\n",
              "      <td>335992</td>\n",
              "      <td>3</td>\n",
              "      <td>6</td>\n",
              "      <td>2</td>\n",
              "      <td>1</td>\n",
              "      <td>6</td>\n",
              "      <td>14</td>\n",
              "      <td>6</td>\n",
              "      <td>True</td>\n",
              "    </tr>\n",
              "    <tr>\n",
              "      <th>12</th>\n",
              "      <td>335994</td>\n",
              "      <td>1</td>\n",
              "      <td>4</td>\n",
              "      <td>24</td>\n",
              "      <td>1</td>\n",
              "      <td>4</td>\n",
              "      <td>4</td>\n",
              "      <td>4</td>\n",
              "      <td>True</td>\n",
              "    </tr>\n",
              "    <tr>\n",
              "      <th>14</th>\n",
              "      <td>335996</td>\n",
              "      <td>3</td>\n",
              "      <td>5</td>\n",
              "      <td>2</td>\n",
              "      <td>0</td>\n",
              "      <td>5</td>\n",
              "      <td>14</td>\n",
              "      <td>5</td>\n",
              "      <td>True</td>\n",
              "    </tr>\n",
              "    <tr>\n",
              "      <th>...</th>\n",
              "      <td>...</td>\n",
              "      <td>...</td>\n",
              "      <td>...</td>\n",
              "      <td>...</td>\n",
              "      <td>...</td>\n",
              "      <td>...</td>\n",
              "      <td>...</td>\n",
              "      <td>...</td>\n",
              "      <td>...</td>\n",
              "    </tr>\n",
              "    <tr>\n",
              "      <th>804</th>\n",
              "      <td>1216540</td>\n",
              "      <td>3</td>\n",
              "      <td>2</td>\n",
              "      <td>31</td>\n",
              "      <td>0</td>\n",
              "      <td>3</td>\n",
              "      <td>29</td>\n",
              "      <td>3</td>\n",
              "      <td>True</td>\n",
              "    </tr>\n",
              "    <tr>\n",
              "      <th>806</th>\n",
              "      <td>1216542</td>\n",
              "      <td>10</td>\n",
              "      <td>9</td>\n",
              "      <td>12</td>\n",
              "      <td>0</td>\n",
              "      <td>10</td>\n",
              "      <td>6</td>\n",
              "      <td>10</td>\n",
              "      <td>True</td>\n",
              "    </tr>\n",
              "    <tr>\n",
              "      <th>807</th>\n",
              "      <td>1216543</td>\n",
              "      <td>14</td>\n",
              "      <td>6</td>\n",
              "      <td>12</td>\n",
              "      <td>0</td>\n",
              "      <td>14</td>\n",
              "      <td>6</td>\n",
              "      <td>14</td>\n",
              "      <td>True</td>\n",
              "    </tr>\n",
              "    <tr>\n",
              "      <th>813</th>\n",
              "      <td>1237178</td>\n",
              "      <td>3</td>\n",
              "      <td>10</td>\n",
              "      <td>0</td>\n",
              "      <td>1</td>\n",
              "      <td>10</td>\n",
              "      <td>30</td>\n",
              "      <td>10</td>\n",
              "      <td>True</td>\n",
              "    </tr>\n",
              "    <tr>\n",
              "      <th>814</th>\n",
              "      <td>1237180</td>\n",
              "      <td>14</td>\n",
              "      <td>10</td>\n",
              "      <td>0</td>\n",
              "      <td>0</td>\n",
              "      <td>14</td>\n",
              "      <td>30</td>\n",
              "      <td>14</td>\n",
              "      <td>True</td>\n",
              "    </tr>\n",
              "  </tbody>\n",
              "</table>\n",
              "<p>418 rows × 9 columns</p>\n",
              "</div>"
            ],
            "text/plain": [
              "          id  team1  team2  city  ...  toss_winner  venue  winner   que\n",
              "1     335983      9      5     7  ...            5     23       5  True\n",
              "8     335990      4      6    16  ...            6     24       6  True\n",
              "10    335992      3      6     2  ...            6     14       6  True\n",
              "12    335994      1      4    24  ...            4      4       4  True\n",
              "14    335996      3      5     2  ...            5     14       5  True\n",
              "..       ...    ...    ...   ...  ...          ...    ...     ...   ...\n",
              "804  1216540      3      2    31  ...            3     29       3  True\n",
              "806  1216542     10      9    12  ...           10      6      10  True\n",
              "807  1216543     14      6    12  ...           14      6      14  True\n",
              "813  1237178      3     10     0  ...           10     30      10  True\n",
              "814  1237180     14     10     0  ...           14     30      14  True\n",
              "\n",
              "[418 rows x 9 columns]"
            ]
          },
          "metadata": {},
          "execution_count": 56
        }
      ]
    },
    {
      "cell_type": "code",
      "metadata": {
        "colab": {
          "base_uri": "https://localhost:8080/",
          "height": 391
        },
        "id": "NyhijOVwZnJc",
        "outputId": "dd26ef3b-0622-4882-985f-e7a69d56e3fc"
      },
      "source": [
        "team1=team_encodings['Mumbai Indians']\n",
        "team2=team_encodings['Chennai Super Kings']\n",
        "mtemp=match_df[((match_df['team1']==team1)|(match_df['team2']==team1))&((match_df['team1']==team2)|(match_df[\"team2\"]==team2))]\n",
        "sns.countplot(x=\"venue\",hue=\"winner\",data=mtemp,palette=\"Set1\")\n",
        "plt.xticks(rotation='vertical')\n",
        "lef=plt.legend(loc=\"upper left\")\n",
        "fig=plt.gcf()\n",
        "fig.set_size_inches(10,6)\n",
        "plt.show()"
      ],
      "id": "NyhijOVwZnJc",
      "execution_count": null,
      "outputs": [
        {
          "output_type": "display_data",
          "data": {
            "image/png": "[encoded data removed]",
            "text/plain": [
              "<Figure size 720x432 with 1 Axes>"
            ]
          },
          "metadata": {
            "needs_background": "light"
          }
        }
      ]
    },
    {
      "cell_type": "code",
      "metadata": {
        "colab": {
          "base_uri": "https://localhost:8080/",
          "height": 423
        },
        "id": "KzpSNgmLam9O",
        "outputId": "43605ac1-b12a-4566-ab8e-83bdc7692482"
      },
      "source": [
        "batsman_grp=delv_df.groupby(['id','batting_team'])\n",
        "batsmen=batsman_grp['batsman_runs'].sum().reset_index()\n",
        "batsmen"
      ],
      "id": "KzpSNgmLam9O",
      "execution_count": null,
      "outputs": [
        {
          "output_type": "execute_result",
          "data": {
            "text/html": [
              "<div>\n",
              "<style scoped>\n",
              "    .dataframe tbody tr th:only-of-type {\n",
              "        vertical-align: middle;\n",
              "    }\n",
              "\n",
              "    .dataframe tbody tr th {\n",
              "        vertical-align: top;\n",
              "    }\n",
              "\n",
              "    .dataframe thead th {\n",
              "        text-align: right;\n",
              "    }\n",
              "</style>\n",
              "<table border=\"1\" class=\"dataframe\">\n",
              "  <thead>\n",
              "    <tr style=\"text-align: right;\">\n",
              "      <th></th>\n",
              "      <th>id</th>\n",
              "      <th>batting_team</th>\n",
              "      <th>batsman_runs</th>\n",
              "    </tr>\n",
              "  </thead>\n",
              "  <tbody>\n",
              "    <tr>\n",
              "      <th>0</th>\n",
              "      <td>335982</td>\n",
              "      <td>Kolkata Knight Riders</td>\n",
              "      <td>205</td>\n",
              "    </tr>\n",
              "    <tr>\n",
              "      <th>1</th>\n",
              "      <td>335982</td>\n",
              "      <td>Royal Challengers Bangalore</td>\n",
              "      <td>63</td>\n",
              "    </tr>\n",
              "    <tr>\n",
              "      <th>2</th>\n",
              "      <td>335983</td>\n",
              "      <td>Chennai Super Kings</td>\n",
              "      <td>234</td>\n",
              "    </tr>\n",
              "    <tr>\n",
              "      <th>3</th>\n",
              "      <td>335983</td>\n",
              "      <td>Kings XI Punjab</td>\n",
              "      <td>196</td>\n",
              "    </tr>\n",
              "    <tr>\n",
              "      <th>4</th>\n",
              "      <td>335984</td>\n",
              "      <td>Delhi Daredevils</td>\n",
              "      <td>122</td>\n",
              "    </tr>\n",
              "    <tr>\n",
              "      <th>...</th>\n",
              "      <td>...</td>\n",
              "      <td>...</td>\n",
              "      <td>...</td>\n",
              "    </tr>\n",
              "    <tr>\n",
              "      <th>1625</th>\n",
              "      <td>1237178</td>\n",
              "      <td>Sunrisers Hyderabad</td>\n",
              "      <td>122</td>\n",
              "    </tr>\n",
              "    <tr>\n",
              "      <th>1626</th>\n",
              "      <td>1237180</td>\n",
              "      <td>Delhi Capitals</td>\n",
              "      <td>181</td>\n",
              "    </tr>\n",
              "    <tr>\n",
              "      <th>1627</th>\n",
              "      <td>1237180</td>\n",
              "      <td>Sunrisers Hyderabad</td>\n",
              "      <td>166</td>\n",
              "    </tr>\n",
              "    <tr>\n",
              "      <th>1628</th>\n",
              "      <td>1237181</td>\n",
              "      <td>Delhi Capitals</td>\n",
              "      <td>152</td>\n",
              "    </tr>\n",
              "    <tr>\n",
              "      <th>1629</th>\n",
              "      <td>1237181</td>\n",
              "      <td>Mumbai Indians</td>\n",
              "      <td>153</td>\n",
              "    </tr>\n",
              "  </tbody>\n",
              "</table>\n",
              "<p>1630 rows × 3 columns</p>\n",
              "</div>"
            ],
            "text/plain": [
              "           id                 batting_team  batsman_runs\n",
              "0      335982        Kolkata Knight Riders           205\n",
              "1      335982  Royal Challengers Bangalore            63\n",
              "2      335983          Chennai Super Kings           234\n",
              "3      335983              Kings XI Punjab           196\n",
              "4      335984             Delhi Daredevils           122\n",
              "...       ...                          ...           ...\n",
              "1625  1237178          Sunrisers Hyderabad           122\n",
              "1626  1237180               Delhi Capitals           181\n",
              "1627  1237180          Sunrisers Hyderabad           166\n",
              "1628  1237181               Delhi Capitals           152\n",
              "1629  1237181               Mumbai Indians           153\n",
              "\n",
              "[1630 rows x 3 columns]"
            ]
          },
          "metadata": {},
          "execution_count": 58
        }
      ]
    },
    {
      "cell_type": "code",
      "metadata": {
        "colab": {
          "base_uri": "https://localhost:8080/",
          "height": 423
        },
        "id": "P7ID1ZwEa-iV",
        "outputId": "3602e8f2-6843-482c-b322-8709926ea245"
      },
      "source": [
        "match=pd.read_csv(\"/content/IPL Matches 2008-2020.csv\")\n",
        "match=match[match['winner'].isnull() !=True]\n",
        "teams=match.groupby(['id','team1','team2'])['winner'].sum().reset_index()\n",
        "teams"
      ],
      "id": "P7ID1ZwEa-iV",
      "execution_count": null,
      "outputs": [
        {
          "output_type": "execute_result",
          "data": {
            "text/html": [
              "<div>\n",
              "<style scoped>\n",
              "    .dataframe tbody tr th:only-of-type {\n",
              "        vertical-align: middle;\n",
              "    }\n",
              "\n",
              "    .dataframe tbody tr th {\n",
              "        vertical-align: top;\n",
              "    }\n",
              "\n",
              "    .dataframe thead th {\n",
              "        text-align: right;\n",
              "    }\n",
              "</style>\n",
              "<table border=\"1\" class=\"dataframe\">\n",
              "  <thead>\n",
              "    <tr style=\"text-align: right;\">\n",
              "      <th></th>\n",
              "      <th>id</th>\n",
              "      <th>team1</th>\n",
              "      <th>team2</th>\n",
              "      <th>winner</th>\n",
              "    </tr>\n",
              "  </thead>\n",
              "  <tbody>\n",
              "    <tr>\n",
              "      <th>0</th>\n",
              "      <td>335982</td>\n",
              "      <td>Royal Challengers Bangalore</td>\n",
              "      <td>Kolkata Knight Riders</td>\n",
              "      <td>Kolkata Knight Riders</td>\n",
              "    </tr>\n",
              "    <tr>\n",
              "      <th>1</th>\n",
              "      <td>335983</td>\n",
              "      <td>Kings XI Punjab</td>\n",
              "      <td>Chennai Super Kings</td>\n",
              "      <td>Chennai Super Kings</td>\n",
              "    </tr>\n",
              "    <tr>\n",
              "      <th>2</th>\n",
              "      <td>335984</td>\n",
              "      <td>Delhi Daredevils</td>\n",
              "      <td>Rajasthan Royals</td>\n",
              "      <td>Delhi Daredevils</td>\n",
              "    </tr>\n",
              "    <tr>\n",
              "      <th>3</th>\n",
              "      <td>335985</td>\n",
              "      <td>Mumbai Indians</td>\n",
              "      <td>Royal Challengers Bangalore</td>\n",
              "      <td>Royal Challengers Bangalore</td>\n",
              "    </tr>\n",
              "    <tr>\n",
              "      <th>4</th>\n",
              "      <td>335986</td>\n",
              "      <td>Kolkata Knight Riders</td>\n",
              "      <td>Deccan Chargers</td>\n",
              "      <td>Kolkata Knight Riders</td>\n",
              "    </tr>\n",
              "    <tr>\n",
              "      <th>...</th>\n",
              "      <td>...</td>\n",
              "      <td>...</td>\n",
              "      <td>...</td>\n",
              "      <td>...</td>\n",
              "    </tr>\n",
              "    <tr>\n",
              "      <th>807</th>\n",
              "      <td>1216547</td>\n",
              "      <td>Royal Challengers Bangalore</td>\n",
              "      <td>Mumbai Indians</td>\n",
              "      <td>Royal Challengers Bangalore</td>\n",
              "    </tr>\n",
              "    <tr>\n",
              "      <th>808</th>\n",
              "      <td>1237177</td>\n",
              "      <td>Mumbai Indians</td>\n",
              "      <td>Delhi Capitals</td>\n",
              "      <td>Mumbai Indians</td>\n",
              "    </tr>\n",
              "    <tr>\n",
              "      <th>809</th>\n",
              "      <td>1237178</td>\n",
              "      <td>Royal Challengers Bangalore</td>\n",
              "      <td>Sunrisers Hyderabad</td>\n",
              "      <td>Sunrisers Hyderabad</td>\n",
              "    </tr>\n",
              "    <tr>\n",
              "      <th>810</th>\n",
              "      <td>1237180</td>\n",
              "      <td>Delhi Capitals</td>\n",
              "      <td>Sunrisers Hyderabad</td>\n",
              "      <td>Delhi Capitals</td>\n",
              "    </tr>\n",
              "    <tr>\n",
              "      <th>811</th>\n",
              "      <td>1237181</td>\n",
              "      <td>Delhi Capitals</td>\n",
              "      <td>Mumbai Indians</td>\n",
              "      <td>Mumbai Indians</td>\n",
              "    </tr>\n",
              "  </tbody>\n",
              "</table>\n",
              "<p>812 rows × 4 columns</p>\n",
              "</div>"
            ],
            "text/plain": [
              "          id  ...                       winner\n",
              "0     335982  ...        Kolkata Knight Riders\n",
              "1     335983  ...          Chennai Super Kings\n",
              "2     335984  ...             Delhi Daredevils\n",
              "3     335985  ...  Royal Challengers Bangalore\n",
              "4     335986  ...        Kolkata Knight Riders\n",
              "..       ...  ...                          ...\n",
              "807  1216547  ...  Royal Challengers Bangalore\n",
              "808  1237177  ...               Mumbai Indians\n",
              "809  1237178  ...          Sunrisers Hyderabad\n",
              "810  1237180  ...               Delhi Capitals\n",
              "811  1237181  ...               Mumbai Indians\n",
              "\n",
              "[812 rows x 4 columns]"
            ]
          },
          "metadata": {},
          "execution_count": 59
        }
      ]
    },
    {
      "cell_type": "code",
      "metadata": {
        "colab": {
          "base_uri": "https://localhost:8080/",
          "height": 423
        },
        "id": "CqQOm2aFelH9",
        "outputId": "b9343f0b-1180-40fa-ea7a-712c0e0914de"
      },
      "source": [
        "append_dict={'match_id':list(teams['id']),\n",
        "             'team1':list(teams['team2']),\n",
        "             'team2':list(teams['team1']),\n",
        "             'team1_score':[],\n",
        "             'team2_score':[],\n",
        "             'winner':list(teams['winner']) \n",
        "            }\n",
        "\n",
        "for id,team in zip(list(teams['id']),list(teams['team1'])):\n",
        "  append_dict['team1_score'].append(int(batsmen.query('id == @id and batting_team == @team')['batsman_runs']))\n",
        "for id,team in zip(list(teams['id']),list(teams['team2'])):\n",
        "  append_dict['team2_score'].append(int(batsmen.query('id == @id and batting_team == @team')['batsman_runs']))\n",
        "\n",
        "df=pd.DataFrame(append_dict)\n",
        "df"
      ],
      "id": "CqQOm2aFelH9",
      "execution_count": null,
      "outputs": [
        {
          "output_type": "execute_result",
          "data": {
            "text/html": [
              "<div>\n",
              "<style scoped>\n",
              "    .dataframe tbody tr th:only-of-type {\n",
              "        vertical-align: middle;\n",
              "    }\n",
              "\n",
              "    .dataframe tbody tr th {\n",
              "        vertical-align: top;\n",
              "    }\n",
              "\n",
              "    .dataframe thead th {\n",
              "        text-align: right;\n",
              "    }\n",
              "</style>\n",
              "<table border=\"1\" class=\"dataframe\">\n",
              "  <thead>\n",
              "    <tr style=\"text-align: right;\">\n",
              "      <th></th>\n",
              "      <th>match_id</th>\n",
              "      <th>team1</th>\n",
              "      <th>team2</th>\n",
              "      <th>team1_score</th>\n",
              "      <th>team2_score</th>\n",
              "      <th>winner</th>\n",
              "    </tr>\n",
              "  </thead>\n",
              "  <tbody>\n",
              "    <tr>\n",
              "      <th>0</th>\n",
              "      <td>335982</td>\n",
              "      <td>Kolkata Knight Riders</td>\n",
              "      <td>Royal Challengers Bangalore</td>\n",
              "      <td>63</td>\n",
              "      <td>205</td>\n",
              "      <td>Kolkata Knight Riders</td>\n",
              "    </tr>\n",
              "    <tr>\n",
              "      <th>1</th>\n",
              "      <td>335983</td>\n",
              "      <td>Chennai Super Kings</td>\n",
              "      <td>Kings XI Punjab</td>\n",
              "      <td>196</td>\n",
              "      <td>234</td>\n",
              "      <td>Chennai Super Kings</td>\n",
              "    </tr>\n",
              "    <tr>\n",
              "      <th>2</th>\n",
              "      <td>335984</td>\n",
              "      <td>Rajasthan Royals</td>\n",
              "      <td>Delhi Daredevils</td>\n",
              "      <td>122</td>\n",
              "      <td>122</td>\n",
              "      <td>Delhi Daredevils</td>\n",
              "    </tr>\n",
              "    <tr>\n",
              "      <th>3</th>\n",
              "      <td>335985</td>\n",
              "      <td>Royal Challengers Bangalore</td>\n",
              "      <td>Mumbai Indians</td>\n",
              "      <td>154</td>\n",
              "      <td>161</td>\n",
              "      <td>Royal Challengers Bangalore</td>\n",
              "    </tr>\n",
              "    <tr>\n",
              "      <th>4</th>\n",
              "      <td>335986</td>\n",
              "      <td>Deccan Chargers</td>\n",
              "      <td>Kolkata Knight Riders</td>\n",
              "      <td>84</td>\n",
              "      <td>100</td>\n",
              "      <td>Kolkata Knight Riders</td>\n",
              "    </tr>\n",
              "    <tr>\n",
              "      <th>...</th>\n",
              "      <td>...</td>\n",
              "      <td>...</td>\n",
              "      <td>...</td>\n",
              "      <td>...</td>\n",
              "      <td>...</td>\n",
              "      <td>...</td>\n",
              "    </tr>\n",
              "    <tr>\n",
              "      <th>807</th>\n",
              "      <td>1216547</td>\n",
              "      <td>Mumbai Indians</td>\n",
              "      <td>Royal Challengers Bangalore</td>\n",
              "      <td>191</td>\n",
              "      <td>196</td>\n",
              "      <td>Royal Challengers Bangalore</td>\n",
              "    </tr>\n",
              "    <tr>\n",
              "      <th>808</th>\n",
              "      <td>1237177</td>\n",
              "      <td>Delhi Capitals</td>\n",
              "      <td>Mumbai Indians</td>\n",
              "      <td>196</td>\n",
              "      <td>137</td>\n",
              "      <td>Mumbai Indians</td>\n",
              "    </tr>\n",
              "    <tr>\n",
              "      <th>809</th>\n",
              "      <td>1237178</td>\n",
              "      <td>Sunrisers Hyderabad</td>\n",
              "      <td>Royal Challengers Bangalore</td>\n",
              "      <td>127</td>\n",
              "      <td>122</td>\n",
              "      <td>Sunrisers Hyderabad</td>\n",
              "    </tr>\n",
              "    <tr>\n",
              "      <th>810</th>\n",
              "      <td>1237180</td>\n",
              "      <td>Sunrisers Hyderabad</td>\n",
              "      <td>Delhi Capitals</td>\n",
              "      <td>181</td>\n",
              "      <td>166</td>\n",
              "      <td>Delhi Capitals</td>\n",
              "    </tr>\n",
              "    <tr>\n",
              "      <th>811</th>\n",
              "      <td>1237181</td>\n",
              "      <td>Mumbai Indians</td>\n",
              "      <td>Delhi Capitals</td>\n",
              "      <td>152</td>\n",
              "      <td>153</td>\n",
              "      <td>Mumbai Indians</td>\n",
              "    </tr>\n",
              "  </tbody>\n",
              "</table>\n",
              "<p>812 rows × 6 columns</p>\n",
              "</div>"
            ],
            "text/plain": [
              "     match_id  ...                       winner\n",
              "0      335982  ...        Kolkata Knight Riders\n",
              "1      335983  ...          Chennai Super Kings\n",
              "2      335984  ...             Delhi Daredevils\n",
              "3      335985  ...  Royal Challengers Bangalore\n",
              "4      335986  ...        Kolkata Knight Riders\n",
              "..        ...  ...                          ...\n",
              "807   1216547  ...  Royal Challengers Bangalore\n",
              "808   1237177  ...               Mumbai Indians\n",
              "809   1237178  ...          Sunrisers Hyderabad\n",
              "810   1237180  ...               Delhi Capitals\n",
              "811   1237181  ...               Mumbai Indians\n",
              "\n",
              "[812 rows x 6 columns]"
            ]
          },
          "metadata": {},
          "execution_count": 60
        }
      ]
    },
    {
      "cell_type": "code",
      "metadata": {
        "colab": {
          "base_uri": "https://localhost:8080/"
        },
        "id": "DyvHFOk2jE-A",
        "outputId": "34b9e743-2f0c-4faa-8ec6-d44c41031218"
      },
      "source": [
        "cols_to_use=match_df.columns.difference(df.columns)\n",
        "cols_to_use"
      ],
      "id": "DyvHFOk2jE-A",
      "execution_count": null,
      "outputs": [
        {
          "output_type": "execute_result",
          "data": {
            "text/plain": [
              "Index(['city', 'id', 'que', 'toss_decision', 'toss_winner', 'venue'], dtype='object')"
            ]
          },
          "metadata": {},
          "execution_count": 61
        }
      ]
    },
    {
      "cell_type": "code",
      "metadata": {
        "colab": {
          "base_uri": "https://localhost:8080/",
          "height": 423
        },
        "id": "h97iRbdOqj9d",
        "outputId": "5c4b0320-997c-4edf-eab0-a49dcef507f2"
      },
      "source": [
        "merged_df=pd.merge(df,match_df[cols_to_use],left_on=\"match_id\",right_on='id')\n",
        "merged_df=merged_df.dropna()\n",
        "merged_df=merged_df.drop('id',axis=1)\n",
        "merged_df"
      ],
      "id": "h97iRbdOqj9d",
      "execution_count": null,
      "outputs": [
        {
          "output_type": "execute_result",
          "data": {
            "text/html": [
              "<div>\n",
              "<style scoped>\n",
              "    .dataframe tbody tr th:only-of-type {\n",
              "        vertical-align: middle;\n",
              "    }\n",
              "\n",
              "    .dataframe tbody tr th {\n",
              "        vertical-align: top;\n",
              "    }\n",
              "\n",
              "    .dataframe thead th {\n",
              "        text-align: right;\n",
              "    }\n",
              "</style>\n",
              "<table border=\"1\" class=\"dataframe\">\n",
              "  <thead>\n",
              "    <tr style=\"text-align: right;\">\n",
              "      <th></th>\n",
              "      <th>match_id</th>\n",
              "      <th>team1</th>\n",
              "      <th>team2</th>\n",
              "      <th>team1_score</th>\n",
              "      <th>team2_score</th>\n",
              "      <th>winner</th>\n",
              "      <th>city</th>\n",
              "      <th>que</th>\n",
              "      <th>toss_decision</th>\n",
              "      <th>toss_winner</th>\n",
              "      <th>venue</th>\n",
              "    </tr>\n",
              "  </thead>\n",
              "  <tbody>\n",
              "    <tr>\n",
              "      <th>0</th>\n",
              "      <td>335982</td>\n",
              "      <td>Kolkata Knight Riders</td>\n",
              "      <td>Royal Challengers Bangalore</td>\n",
              "      <td>63</td>\n",
              "      <td>205</td>\n",
              "      <td>Kolkata Knight Riders</td>\n",
              "      <td>2</td>\n",
              "      <td>False</td>\n",
              "      <td>1</td>\n",
              "      <td>3</td>\n",
              "      <td>14</td>\n",
              "    </tr>\n",
              "    <tr>\n",
              "      <th>1</th>\n",
              "      <td>335983</td>\n",
              "      <td>Chennai Super Kings</td>\n",
              "      <td>Kings XI Punjab</td>\n",
              "      <td>196</td>\n",
              "      <td>234</td>\n",
              "      <td>Chennai Super Kings</td>\n",
              "      <td>7</td>\n",
              "      <td>True</td>\n",
              "      <td>0</td>\n",
              "      <td>5</td>\n",
              "      <td>23</td>\n",
              "    </tr>\n",
              "    <tr>\n",
              "      <th>2</th>\n",
              "      <td>335984</td>\n",
              "      <td>Rajasthan Royals</td>\n",
              "      <td>Delhi Daredevils</td>\n",
              "      <td>122</td>\n",
              "      <td>122</td>\n",
              "      <td>Delhi Daredevils</td>\n",
              "      <td>10</td>\n",
              "      <td>False</td>\n",
              "      <td>0</td>\n",
              "      <td>6</td>\n",
              "      <td>8</td>\n",
              "    </tr>\n",
              "    <tr>\n",
              "      <th>3</th>\n",
              "      <td>335985</td>\n",
              "      <td>Royal Challengers Bangalore</td>\n",
              "      <td>Mumbai Indians</td>\n",
              "      <td>154</td>\n",
              "      <td>161</td>\n",
              "      <td>Royal Challengers Bangalore</td>\n",
              "      <td>24</td>\n",
              "      <td>False</td>\n",
              "      <td>0</td>\n",
              "      <td>1</td>\n",
              "      <td>35</td>\n",
              "    </tr>\n",
              "    <tr>\n",
              "      <th>4</th>\n",
              "      <td>335986</td>\n",
              "      <td>Deccan Chargers</td>\n",
              "      <td>Kolkata Knight Riders</td>\n",
              "      <td>84</td>\n",
              "      <td>100</td>\n",
              "      <td>Kolkata Knight Riders</td>\n",
              "      <td>23</td>\n",
              "      <td>False</td>\n",
              "      <td>0</td>\n",
              "      <td>4</td>\n",
              "      <td>7</td>\n",
              "    </tr>\n",
              "    <tr>\n",
              "      <th>...</th>\n",
              "      <td>...</td>\n",
              "      <td>...</td>\n",
              "      <td>...</td>\n",
              "      <td>...</td>\n",
              "      <td>...</td>\n",
              "      <td>...</td>\n",
              "      <td>...</td>\n",
              "      <td>...</td>\n",
              "      <td>...</td>\n",
              "      <td>...</td>\n",
              "      <td>...</td>\n",
              "    </tr>\n",
              "    <tr>\n",
              "      <th>807</th>\n",
              "      <td>1216547</td>\n",
              "      <td>Mumbai Indians</td>\n",
              "      <td>Royal Challengers Bangalore</td>\n",
              "      <td>191</td>\n",
              "      <td>196</td>\n",
              "      <td>Royal Challengers Bangalore</td>\n",
              "      <td>12</td>\n",
              "      <td>False</td>\n",
              "      <td>1</td>\n",
              "      <td>1</td>\n",
              "      <td>6</td>\n",
              "    </tr>\n",
              "    <tr>\n",
              "      <th>808</th>\n",
              "      <td>1237177</td>\n",
              "      <td>Delhi Capitals</td>\n",
              "      <td>Mumbai Indians</td>\n",
              "      <td>196</td>\n",
              "      <td>137</td>\n",
              "      <td>Mumbai Indians</td>\n",
              "      <td>12</td>\n",
              "      <td>False</td>\n",
              "      <td>1</td>\n",
              "      <td>14</td>\n",
              "      <td>6</td>\n",
              "    </tr>\n",
              "    <tr>\n",
              "      <th>809</th>\n",
              "      <td>1237178</td>\n",
              "      <td>Sunrisers Hyderabad</td>\n",
              "      <td>Royal Challengers Bangalore</td>\n",
              "      <td>127</td>\n",
              "      <td>122</td>\n",
              "      <td>Sunrisers Hyderabad</td>\n",
              "      <td>0</td>\n",
              "      <td>True</td>\n",
              "      <td>1</td>\n",
              "      <td>10</td>\n",
              "      <td>30</td>\n",
              "    </tr>\n",
              "    <tr>\n",
              "      <th>810</th>\n",
              "      <td>1237180</td>\n",
              "      <td>Sunrisers Hyderabad</td>\n",
              "      <td>Delhi Capitals</td>\n",
              "      <td>181</td>\n",
              "      <td>166</td>\n",
              "      <td>Delhi Capitals</td>\n",
              "      <td>0</td>\n",
              "      <td>True</td>\n",
              "      <td>0</td>\n",
              "      <td>14</td>\n",
              "      <td>30</td>\n",
              "    </tr>\n",
              "    <tr>\n",
              "      <th>811</th>\n",
              "      <td>1237181</td>\n",
              "      <td>Mumbai Indians</td>\n",
              "      <td>Delhi Capitals</td>\n",
              "      <td>152</td>\n",
              "      <td>153</td>\n",
              "      <td>Mumbai Indians</td>\n",
              "      <td>12</td>\n",
              "      <td>False</td>\n",
              "      <td>0</td>\n",
              "      <td>14</td>\n",
              "      <td>6</td>\n",
              "    </tr>\n",
              "  </tbody>\n",
              "</table>\n",
              "<p>812 rows × 11 columns</p>\n",
              "</div>"
            ],
            "text/plain": [
              "     match_id                        team1  ... toss_winner  venue\n",
              "0      335982        Kolkata Knight Riders  ...           3     14\n",
              "1      335983          Chennai Super Kings  ...           5     23\n",
              "2      335984             Rajasthan Royals  ...           6      8\n",
              "3      335985  Royal Challengers Bangalore  ...           1     35\n",
              "4      335986              Deccan Chargers  ...           4      7\n",
              "..        ...                          ...  ...         ...    ...\n",
              "807   1216547               Mumbai Indians  ...           1      6\n",
              "808   1237177               Delhi Capitals  ...          14      6\n",
              "809   1237178          Sunrisers Hyderabad  ...          10     30\n",
              "810   1237180          Sunrisers Hyderabad  ...          14     30\n",
              "811   1237181               Mumbai Indians  ...          14      6\n",
              "\n",
              "[812 rows x 11 columns]"
            ]
          },
          "metadata": {},
          "execution_count": 62
        }
      ]
    },
    {
      "cell_type": "code",
      "metadata": {
        "colab": {
          "base_uri": "https://localhost:8080/",
          "height": 423
        },
        "id": "ySbEJcJbrM2u",
        "outputId": "2ffea57b-750c-42b1-8912-2797bda5ac98"
      },
      "source": [
        "def categorize(val):\n",
        "  if val<50:\n",
        "    return 1\n",
        "  elif val>=20 and val<100:\n",
        "    return 2\n",
        "  elif val>=100 and val<150:\n",
        "    return 3\n",
        "  elif val>=150 and val<200:\n",
        "    return 4\n",
        "  else:\n",
        "    return 5\n",
        "cols=['team1_score','team2_score']\n",
        "for col in cols:\n",
        "  merged_df[col]=merged_df[col].apply(categorize)\n",
        "merged_df"
      ],
      "id": "ySbEJcJbrM2u",
      "execution_count": null,
      "outputs": [
        {
          "output_type": "execute_result",
          "data": {
            "text/html": [
              "<div>\n",
              "<style scoped>\n",
              "    .dataframe tbody tr th:only-of-type {\n",
              "        vertical-align: middle;\n",
              "    }\n",
              "\n",
              "    .dataframe tbody tr th {\n",
              "        vertical-align: top;\n",
              "    }\n",
              "\n",
              "    .dataframe thead th {\n",
              "        text-align: right;\n",
              "    }\n",
              "</style>\n",
              "<table border=\"1\" class=\"dataframe\">\n",
              "  <thead>\n",
              "    <tr style=\"text-align: right;\">\n",
              "      <th></th>\n",
              "      <th>match_id</th>\n",
              "      <th>team1</th>\n",
              "      <th>team2</th>\n",
              "      <th>team1_score</th>\n",
              "      <th>team2_score</th>\n",
              "      <th>winner</th>\n",
              "      <th>city</th>\n",
              "      <th>que</th>\n",
              "      <th>toss_decision</th>\n",
              "      <th>toss_winner</th>\n",
              "      <th>venue</th>\n",
              "    </tr>\n",
              "  </thead>\n",
              "  <tbody>\n",
              "    <tr>\n",
              "      <th>0</th>\n",
              "      <td>335982</td>\n",
              "      <td>Kolkata Knight Riders</td>\n",
              "      <td>Royal Challengers Bangalore</td>\n",
              "      <td>2</td>\n",
              "      <td>5</td>\n",
              "      <td>Kolkata Knight Riders</td>\n",
              "      <td>2</td>\n",
              "      <td>False</td>\n",
              "      <td>1</td>\n",
              "      <td>3</td>\n",
              "      <td>14</td>\n",
              "    </tr>\n",
              "    <tr>\n",
              "      <th>1</th>\n",
              "      <td>335983</td>\n",
              "      <td>Chennai Super Kings</td>\n",
              "      <td>Kings XI Punjab</td>\n",
              "      <td>4</td>\n",
              "      <td>5</td>\n",
              "      <td>Chennai Super Kings</td>\n",
              "      <td>7</td>\n",
              "      <td>True</td>\n",
              "      <td>0</td>\n",
              "      <td>5</td>\n",
              "      <td>23</td>\n",
              "    </tr>\n",
              "    <tr>\n",
              "      <th>2</th>\n",
              "      <td>335984</td>\n",
              "      <td>Rajasthan Royals</td>\n",
              "      <td>Delhi Daredevils</td>\n",
              "      <td>3</td>\n",
              "      <td>3</td>\n",
              "      <td>Delhi Daredevils</td>\n",
              "      <td>10</td>\n",
              "      <td>False</td>\n",
              "      <td>0</td>\n",
              "      <td>6</td>\n",
              "      <td>8</td>\n",
              "    </tr>\n",
              "    <tr>\n",
              "      <th>3</th>\n",
              "      <td>335985</td>\n",
              "      <td>Royal Challengers Bangalore</td>\n",
              "      <td>Mumbai Indians</td>\n",
              "      <td>4</td>\n",
              "      <td>4</td>\n",
              "      <td>Royal Challengers Bangalore</td>\n",
              "      <td>24</td>\n",
              "      <td>False</td>\n",
              "      <td>0</td>\n",
              "      <td>1</td>\n",
              "      <td>35</td>\n",
              "    </tr>\n",
              "    <tr>\n",
              "      <th>4</th>\n",
              "      <td>335986</td>\n",
              "      <td>Deccan Chargers</td>\n",
              "      <td>Kolkata Knight Riders</td>\n",
              "      <td>2</td>\n",
              "      <td>3</td>\n",
              "      <td>Kolkata Knight Riders</td>\n",
              "      <td>23</td>\n",
              "      <td>False</td>\n",
              "      <td>0</td>\n",
              "      <td>4</td>\n",
              "      <td>7</td>\n",
              "    </tr>\n",
              "    <tr>\n",
              "      <th>...</th>\n",
              "      <td>...</td>\n",
              "      <td>...</td>\n",
              "      <td>...</td>\n",
              "      <td>...</td>\n",
              "      <td>...</td>\n",
              "      <td>...</td>\n",
              "      <td>...</td>\n",
              "      <td>...</td>\n",
              "      <td>...</td>\n",
              "      <td>...</td>\n",
              "      <td>...</td>\n",
              "    </tr>\n",
              "    <tr>\n",
              "      <th>807</th>\n",
              "      <td>1216547</td>\n",
              "      <td>Mumbai Indians</td>\n",
              "      <td>Royal Challengers Bangalore</td>\n",
              "      <td>4</td>\n",
              "      <td>4</td>\n",
              "      <td>Royal Challengers Bangalore</td>\n",
              "      <td>12</td>\n",
              "      <td>False</td>\n",
              "      <td>1</td>\n",
              "      <td>1</td>\n",
              "      <td>6</td>\n",
              "    </tr>\n",
              "    <tr>\n",
              "      <th>808</th>\n",
              "      <td>1237177</td>\n",
              "      <td>Delhi Capitals</td>\n",
              "      <td>Mumbai Indians</td>\n",
              "      <td>4</td>\n",
              "      <td>3</td>\n",
              "      <td>Mumbai Indians</td>\n",
              "      <td>12</td>\n",
              "      <td>False</td>\n",
              "      <td>1</td>\n",
              "      <td>14</td>\n",
              "      <td>6</td>\n",
              "    </tr>\n",
              "    <tr>\n",
              "      <th>809</th>\n",
              "      <td>1237178</td>\n",
              "      <td>Sunrisers Hyderabad</td>\n",
              "      <td>Royal Challengers Bangalore</td>\n",
              "      <td>3</td>\n",
              "      <td>3</td>\n",
              "      <td>Sunrisers Hyderabad</td>\n",
              "      <td>0</td>\n",
              "      <td>True</td>\n",
              "      <td>1</td>\n",
              "      <td>10</td>\n",
              "      <td>30</td>\n",
              "    </tr>\n",
              "    <tr>\n",
              "      <th>810</th>\n",
              "      <td>1237180</td>\n",
              "      <td>Sunrisers Hyderabad</td>\n",
              "      <td>Delhi Capitals</td>\n",
              "      <td>4</td>\n",
              "      <td>4</td>\n",
              "      <td>Delhi Capitals</td>\n",
              "      <td>0</td>\n",
              "      <td>True</td>\n",
              "      <td>0</td>\n",
              "      <td>14</td>\n",
              "      <td>30</td>\n",
              "    </tr>\n",
              "    <tr>\n",
              "      <th>811</th>\n",
              "      <td>1237181</td>\n",
              "      <td>Mumbai Indians</td>\n",
              "      <td>Delhi Capitals</td>\n",
              "      <td>4</td>\n",
              "      <td>4</td>\n",
              "      <td>Mumbai Indians</td>\n",
              "      <td>12</td>\n",
              "      <td>False</td>\n",
              "      <td>0</td>\n",
              "      <td>14</td>\n",
              "      <td>6</td>\n",
              "    </tr>\n",
              "  </tbody>\n",
              "</table>\n",
              "<p>812 rows × 11 columns</p>\n",
              "</div>"
            ],
            "text/plain": [
              "     match_id                        team1  ... toss_winner  venue\n",
              "0      335982        Kolkata Knight Riders  ...           3     14\n",
              "1      335983          Chennai Super Kings  ...           5     23\n",
              "2      335984             Rajasthan Royals  ...           6      8\n",
              "3      335985  Royal Challengers Bangalore  ...           1     35\n",
              "4      335986              Deccan Chargers  ...           4      7\n",
              "..        ...                          ...  ...         ...    ...\n",
              "807   1216547               Mumbai Indians  ...           1      6\n",
              "808   1237177               Delhi Capitals  ...          14      6\n",
              "809   1237178          Sunrisers Hyderabad  ...          10     30\n",
              "810   1237180          Sunrisers Hyderabad  ...          14     30\n",
              "811   1237181               Mumbai Indians  ...          14      6\n",
              "\n",
              "[812 rows x 11 columns]"
            ]
          },
          "metadata": {},
          "execution_count": 63
        }
      ]
    },
    {
      "cell_type": "code",
      "metadata": {
        "colab": {
          "base_uri": "https://localhost:8080/",
          "height": 553
        },
        "id": "GaqbThwPr2yq",
        "outputId": "893a9340-0799-4af1-dd74-0be3d75ba202"
      },
      "source": [
        "sns.set(rc={'figure.figsize':(12,8)})\n",
        "ax=sns.heatmap(merged_df.corr(),annot=True)"
      ],
      "id": "GaqbThwPr2yq",
      "execution_count": null,
      "outputs": [
        {
          "output_type": "display_data",
          "data": {
            "image/png": "[encoded data removed]",
            "text/plain": [
              "<Figure size 864x576 with 2 Axes>"
            ]
          },
          "metadata": {}
        }
      ]
    }
  ]
}